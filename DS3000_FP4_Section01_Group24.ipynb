{
 "cells": [
  {
   "cell_type": "markdown",
   "metadata": {},
   "source": [
    "<center> <h2> DS 3000 - Fall 2020</h2> </center>\n",
    "<center> <h3> DS Report </h3> </center>\n"
   ]
  },
  {
   "cell_type": "markdown",
   "metadata": {},
   "source": [
    "<center> <h3> Predicting Google Play Store Ratings </h3> </center>\n",
    "<center><h4> Stanley Wu and Patrick Yoon </h4></center>\n"
   ]
  },
  {
   "cell_type": "markdown",
   "metadata": {},
   "source": [
    "  "
   ]
  },
  {
   "cell_type": "markdown",
   "metadata": {},
   "source": [
    "<hr style=\"height:2px; border:none; color:black; background-color:black;\">"
   ]
  },
  {
   "cell_type": "markdown",
   "metadata": {},
   "source": [
    "#### Executive Summary:\n",
    "\n",
    "Our final project focused on analyzing the rating of various applications on the Google Play Store using various characteristics such as the category, number of installs, price, and many more. We collected our data from Kaggle, but a lot of pre-processing was needed to be done before our ML algorithms could be run on them. One of our questions was whether classification our regression would work better in predicting app ratings, so we engineered two datasets to accomplish this task (continuous output for regression, discrete classes for classification). After data preprocessing, we visualized each of our features compared to the rating using either a box plot or a regression plot. Using these visualizations, we conducted our hypothesis tests that developed about our dataset to potentially draw rational conclusions. The main experiment we wished to conduct was whether regression, or classification would perform better in predicting ratings. We found that classification produced better results, while regression results were pretty poor. Within the classification algorithms, we also found that decision tree worked the best, compared to KNN and LinearSVC. This helps affirm that decision trees work better that KNN when feature dimensionality is high, something we encountered in our dataset.\n",
    "\n"
   ]
  },
  {
   "cell_type": "markdown",
   "metadata": {},
   "source": [
    "<hr style=\"height:2px; border:none; color:black; background-color:black;\">"
   ]
  },
  {
   "cell_type": "markdown",
   "metadata": {},
   "source": [
    "## Outline\n",
    "1. <a href='#1'>INTRODUCTION</a>\n",
    "2. <a href='#2'>METHOD</a>\n",
    "3. <a href='#3'>RESULTS</a>\n",
    "4. <a href='#4'>DISCUSSION</a>"
   ]
  },
  {
   "cell_type": "markdown",
   "metadata": {},
   "source": [
    "<a id=\"1\"></a>\n",
    "<hr style=\"height:2px; border:none; color:black; background-color:black;\">"
   ]
  },
  {
   "cell_type": "markdown",
   "metadata": {},
   "source": [
    "## 1. INTRODUCTION"
   ]
  },
  {
   "cell_type": "markdown",
   "metadata": {},
   "source": [
    "**Problem Statement:**\n",
    "\n",
    "We want to analyze data about applications from the Google Play Store in order to find the factors that have the most effect on the rating (out of five) presented on the Google Play Store. Potential factors include category, genre, number of installs, and the number of reviews. We plan on using these factors as features to predict the rating of an application. With this, we can learn about which features are more significant in determining the rating and in what way.\n",
    "\n",
    "**Significance of the Problem:**\n",
    "\n",
    "As a platform for creating applications for use on phones, there are many features of a Google Play Application, ranging from average rating among users, genre, and download count, to name a few. With phones being such an important part of daily life (and Google Play Store supplying applications to a large majority of phone users), it is important to understand not only how current applications have faired on the market, but also what features distinguish good apps from bad apps, which allow us and developers to hone in on certain features of applications during development to improve user experience and popularity for new applications. \n",
    "\n",
    "Another person has conducted a similar experiement has us while using the same dataset from Kaggle. You can click [here](https://www.kaggle.com/jemseow/machine-learning-to-predict-app-ratings) to read about it. This person opted into using three models: linear regression, the SVR model, and the random forest regressor model.\n",
    "\n",
    "**Questions:**\n",
    "\n",
    "Given the aforementioned problem and its importance, we set out to tackle the following questions:\n",
    "- Which process will yield the best results: classification or regression?\n",
    "    - Using our ratings target variable as continuous values or discretizing them for classification\n",
    "    - Whether leaving the target as a continuous variable for regression will yield better results than doing some pre-processing to turn this into a classification problem\n",
    "- Which algorithms will have the easiest time fitting to the data?\n",
    "    - KNN, decision trees, LinearSVC\n",
    "- Which algorithm will end up with the highest testing accuracy?\n",
    "- What is the difference in performance between decision trees and KNN?\n",
    "    - This is important due to our large number of features being used\n",
    "    - KNN usually does better on datasets with less features\n",
    "    - Decision trees might have an easier time because there are more\n",
    "\n",
    "**Hypothesis:**\n",
    "\n",
    "For hypothesis testing, we will be testing if a higher number of installs means that the rating is also higher. We will also be testing if a lower number of reviews means that the rating will be higher. By using various classification and regression algorithms, we will be able to answer the questions mentioned above and test our hypothesis. These questions and their respective answers will help us as developers and data analysis to see whether popularity or urge to write a review necessarily constitutes to a higher rating. \n"
   ]
  },
  {
   "cell_type": "markdown",
   "metadata": {},
   "source": [
    "<a id=\"2\"></a>\n",
    "<hr style=\"height:2px; border:none; color:black; background-color:black;\">"
   ]
  },
  {
   "cell_type": "markdown",
   "metadata": {},
   "source": [
    "## 2. METHOD"
   ]
  },
  {
   "cell_type": "markdown",
   "metadata": {},
   "source": [
    "### 2.1 Data Acquisition\n",
    "We obtained our data from kaggle:\n",
    "-\thttps://www.kaggle.com/lava18/google-play-store-apps\n",
    "\n",
    "This dataset provides information about applications on the Google Play Store. This includes the application name, category, rating (out of 5), number of reviews, size (in M), number of installs, price, content rating, genre, date of last update, current version, and the required android version to run the application. This results in 13 columns. There are exactly 10841 applications in the dataset, resulting in 10841 rows of data."
   ]
  },
  {
   "cell_type": "markdown",
   "metadata": {},
   "source": [
    "### 2.2 Data Analysis\n",
    "In relation to our hypothesis, our independent variables are the ten out of the eleven feature variables stated above: name, category, number of reviews, size (in M), number of installs, price, content rating, genre, date of last update, current version, and the required android version to run the application. Our outcome variable will be the rating, which is a value between 1 and 5. We plan on testing the results between classification (the rating will be a discrete number between 1-5) or regression (the rating will be a continuous number between 1-5).\n",
    "\n",
    "We deem our feature variables as important predictors as these characteristics define the activity and the quality of an application on the Google Play Store. Features such as genre and category are important as people's rating may change depending on the type of application it functions as. Other features such as the number of installs and reviews may also be important as the average rating may vary more with less number of users using/reviewing it. This is a supervised ML problem because we have our ten features as inputs and mapping it to a single output, the rating. As stated previously, we plan on testing both classification and regression as our target variable allows it. As for the machine learning algorithms, for classification we plan on using Classification K-Nearest Neighbors (KNN), classification decision tree, and LinearSVC model. For regression, we plan on using Regression K-Nearest Neighbors, regression decision tree, and LinearSVR model. We decided on these algorithms as they are comparatively cheap, easy, and quick to implement. Since we are testing so many different algorithms and testing both regression and classification, we want to use algorithms that can evaluate the performance quickly with good accuracy."
   ]
  },
  {
   "cell_type": "markdown",
   "metadata": {},
   "source": [
    "<a id=\"3\"></a>\n",
    "<hr style=\"height:2px; border:none; color:black; background-color:black;\">"
   ]
  },
  {
   "cell_type": "markdown",
   "metadata": {},
   "source": [
    "## 3. RESULTS"
   ]
  },
  {
   "cell_type": "markdown",
   "metadata": {},
   "source": [
    "### 3.1. Data Wrangling\n"
   ]
  },
  {
   "cell_type": "markdown",
   "metadata": {},
   "source": [
    "We import or google play store csv, and show it's initial shape and some of its contents"
   ]
  },
  {
   "cell_type": "code",
   "execution_count": 164,
   "metadata": {},
   "outputs": [
    {
     "name": "stdout",
     "output_type": "stream",
     "text": [
      "(10841, 13)\n"
     ]
    },
    {
     "data": {
      "text/html": [
       "<div>\n",
       "<style scoped>\n",
       "    .dataframe tbody tr th:only-of-type {\n",
       "        vertical-align: middle;\n",
       "    }\n",
       "\n",
       "    .dataframe tbody tr th {\n",
       "        vertical-align: top;\n",
       "    }\n",
       "\n",
       "    .dataframe thead th {\n",
       "        text-align: right;\n",
       "    }\n",
       "</style>\n",
       "<table border=\"1\" class=\"dataframe\">\n",
       "  <thead>\n",
       "    <tr style=\"text-align: right;\">\n",
       "      <th></th>\n",
       "      <th>App</th>\n",
       "      <th>Category</th>\n",
       "      <th>Rating</th>\n",
       "      <th>Reviews</th>\n",
       "      <th>Size</th>\n",
       "      <th>Installs</th>\n",
       "      <th>Type</th>\n",
       "      <th>Price</th>\n",
       "      <th>Content Rating</th>\n",
       "      <th>Genres</th>\n",
       "      <th>Last Updated</th>\n",
       "      <th>Current Ver</th>\n",
       "      <th>Android Ver</th>\n",
       "    </tr>\n",
       "  </thead>\n",
       "  <tbody>\n",
       "    <tr>\n",
       "      <td>0</td>\n",
       "      <td>Photo Editor &amp; Candy Camera &amp; Grid &amp; ScrapBook</td>\n",
       "      <td>ART_AND_DESIGN</td>\n",
       "      <td>4.1</td>\n",
       "      <td>159</td>\n",
       "      <td>19M</td>\n",
       "      <td>10,000+</td>\n",
       "      <td>Free</td>\n",
       "      <td>0</td>\n",
       "      <td>Everyone</td>\n",
       "      <td>Art &amp; Design</td>\n",
       "      <td>January 7, 2018</td>\n",
       "      <td>1.0.0</td>\n",
       "      <td>4.0.3 and up</td>\n",
       "    </tr>\n",
       "    <tr>\n",
       "      <td>1</td>\n",
       "      <td>Coloring book moana</td>\n",
       "      <td>ART_AND_DESIGN</td>\n",
       "      <td>3.9</td>\n",
       "      <td>967</td>\n",
       "      <td>14M</td>\n",
       "      <td>500,000+</td>\n",
       "      <td>Free</td>\n",
       "      <td>0</td>\n",
       "      <td>Everyone</td>\n",
       "      <td>Art &amp; Design;Pretend Play</td>\n",
       "      <td>January 15, 2018</td>\n",
       "      <td>2.0.0</td>\n",
       "      <td>4.0.3 and up</td>\n",
       "    </tr>\n",
       "    <tr>\n",
       "      <td>2</td>\n",
       "      <td>U Launcher Lite – FREE Live Cool Themes, Hide ...</td>\n",
       "      <td>ART_AND_DESIGN</td>\n",
       "      <td>4.7</td>\n",
       "      <td>87510</td>\n",
       "      <td>8.7M</td>\n",
       "      <td>5,000,000+</td>\n",
       "      <td>Free</td>\n",
       "      <td>0</td>\n",
       "      <td>Everyone</td>\n",
       "      <td>Art &amp; Design</td>\n",
       "      <td>August 1, 2018</td>\n",
       "      <td>1.2.4</td>\n",
       "      <td>4.0.3 and up</td>\n",
       "    </tr>\n",
       "    <tr>\n",
       "      <td>3</td>\n",
       "      <td>Sketch - Draw &amp; Paint</td>\n",
       "      <td>ART_AND_DESIGN</td>\n",
       "      <td>4.5</td>\n",
       "      <td>215644</td>\n",
       "      <td>25M</td>\n",
       "      <td>50,000,000+</td>\n",
       "      <td>Free</td>\n",
       "      <td>0</td>\n",
       "      <td>Teen</td>\n",
       "      <td>Art &amp; Design</td>\n",
       "      <td>June 8, 2018</td>\n",
       "      <td>Varies with device</td>\n",
       "      <td>4.2 and up</td>\n",
       "    </tr>\n",
       "    <tr>\n",
       "      <td>4</td>\n",
       "      <td>Pixel Draw - Number Art Coloring Book</td>\n",
       "      <td>ART_AND_DESIGN</td>\n",
       "      <td>4.3</td>\n",
       "      <td>967</td>\n",
       "      <td>2.8M</td>\n",
       "      <td>100,000+</td>\n",
       "      <td>Free</td>\n",
       "      <td>0</td>\n",
       "      <td>Everyone</td>\n",
       "      <td>Art &amp; Design;Creativity</td>\n",
       "      <td>June 20, 2018</td>\n",
       "      <td>1.1</td>\n",
       "      <td>4.4 and up</td>\n",
       "    </tr>\n",
       "  </tbody>\n",
       "</table>\n",
       "</div>"
      ],
      "text/plain": [
       "                                                 App        Category  Rating  \\\n",
       "0     Photo Editor & Candy Camera & Grid & ScrapBook  ART_AND_DESIGN     4.1   \n",
       "1                                Coloring book moana  ART_AND_DESIGN     3.9   \n",
       "2  U Launcher Lite – FREE Live Cool Themes, Hide ...  ART_AND_DESIGN     4.7   \n",
       "3                              Sketch - Draw & Paint  ART_AND_DESIGN     4.5   \n",
       "4              Pixel Draw - Number Art Coloring Book  ART_AND_DESIGN     4.3   \n",
       "\n",
       "  Reviews  Size     Installs  Type Price Content Rating  \\\n",
       "0     159   19M      10,000+  Free     0       Everyone   \n",
       "1     967   14M     500,000+  Free     0       Everyone   \n",
       "2   87510  8.7M   5,000,000+  Free     0       Everyone   \n",
       "3  215644   25M  50,000,000+  Free     0           Teen   \n",
       "4     967  2.8M     100,000+  Free     0       Everyone   \n",
       "\n",
       "                      Genres      Last Updated         Current Ver  \\\n",
       "0               Art & Design   January 7, 2018               1.0.0   \n",
       "1  Art & Design;Pretend Play  January 15, 2018               2.0.0   \n",
       "2               Art & Design    August 1, 2018               1.2.4   \n",
       "3               Art & Design      June 8, 2018  Varies with device   \n",
       "4    Art & Design;Creativity     June 20, 2018                 1.1   \n",
       "\n",
       "    Android Ver  \n",
       "0  4.0.3 and up  \n",
       "1  4.0.3 and up  \n",
       "2  4.0.3 and up  \n",
       "3    4.2 and up  \n",
       "4    4.4 and up  "
      ]
     },
     "execution_count": 164,
     "metadata": {},
     "output_type": "execute_result"
    }
   ],
   "source": [
    "import pandas as pd\n",
    "\n",
    "df = pd.read_csv('googleplaystore.csv')\n",
    "print(df.shape)\n",
    "df.head()"
   ]
  },
  {
   "cell_type": "markdown",
   "metadata": {},
   "source": [
    "We drop rows that are missing values, and reset the index (this will be important later when we do some joining). We then also remove some features that have little to do comparisons between applications. This includes the version (game dependent), genre (covered in more detail in category), the day it was last updated (game dependent), and size (game dependent). "
   ]
  },
  {
   "cell_type": "code",
   "execution_count": 165,
   "metadata": {},
   "outputs": [
    {
     "data": {
      "text/plain": [
       "(9360, 9)"
      ]
     },
     "execution_count": 165,
     "metadata": {},
     "output_type": "execute_result"
    }
   ],
   "source": [
    "df = df.dropna()\n",
    "df = df.reset_index()\n",
    "df = df.drop(['index', 'Current Ver', 'Genres', 'Last Updated', 'Size'], axis=1)\n",
    "df.shape"
   ]
  },
  {
   "cell_type": "markdown",
   "metadata": {},
   "source": [
    "Since we have a lot of categorical columns, we write a function that onehot encodes a given dataframe's specific column as provided, and returns the newly joined dataset with one hot encoded features. We do this for 'Category', 'Type', 'Content Rating', and 'Android Ver'. These are most of our non continuous features. We then do some data massaging to get turn the features 'Installs' and 'Price' into continuous values (they were originally strings with symbols)."
   ]
  },
  {
   "cell_type": "code",
   "execution_count": 166,
   "metadata": {},
   "outputs": [],
   "source": [
    "from sklearn.preprocessing import OneHotEncoder\n",
    "\n",
    "def onehot_encode_col(df, col):\n",
    "    new_df = df[col].values.reshape(-1,1)\n",
    "    encoder = OneHotEncoder(sparse=False)\n",
    "    encoded_df = encoder.fit_transform(new_df)\n",
    "    \n",
    "    features_df = pd.DataFrame(encoded_df, columns=encoder.get_feature_names())\n",
    "    df = df.drop([col], axis=1)\n",
    "    return df.join(features_df)"
   ]
  },
  {
   "cell_type": "code",
   "execution_count": 167,
   "metadata": {},
   "outputs": [
    {
     "data": {
      "text/html": [
       "<div>\n",
       "<style scoped>\n",
       "    .dataframe tbody tr th:only-of-type {\n",
       "        vertical-align: middle;\n",
       "    }\n",
       "\n",
       "    .dataframe tbody tr th {\n",
       "        vertical-align: top;\n",
       "    }\n",
       "\n",
       "    .dataframe thead th {\n",
       "        text-align: right;\n",
       "    }\n",
       "</style>\n",
       "<table border=\"1\" class=\"dataframe\">\n",
       "  <thead>\n",
       "    <tr style=\"text-align: right;\">\n",
       "      <th></th>\n",
       "      <th>App</th>\n",
       "      <th>Rating</th>\n",
       "      <th>Reviews</th>\n",
       "      <th>Installs</th>\n",
       "      <th>Price</th>\n",
       "      <th>x0_ART_AND_DESIGN</th>\n",
       "      <th>x0_AUTO_AND_VEHICLES</th>\n",
       "      <th>x0_BEAUTY</th>\n",
       "      <th>x0_BOOKS_AND_REFERENCE</th>\n",
       "      <th>x0_BUSINESS</th>\n",
       "      <th>...</th>\n",
       "      <th>x0_5.0 - 6.0</th>\n",
       "      <th>x0_5.0 - 8.0</th>\n",
       "      <th>x0_5.0 and up</th>\n",
       "      <th>x0_5.1 and up</th>\n",
       "      <th>x0_6.0 and up</th>\n",
       "      <th>x0_7.0 - 7.1.1</th>\n",
       "      <th>x0_7.0 and up</th>\n",
       "      <th>x0_7.1 and up</th>\n",
       "      <th>x0_8.0 and up</th>\n",
       "      <th>x0_Varies with device</th>\n",
       "    </tr>\n",
       "  </thead>\n",
       "  <tbody>\n",
       "    <tr>\n",
       "      <td>0</td>\n",
       "      <td>Photo Editor &amp; Candy Camera &amp; Grid &amp; ScrapBook</td>\n",
       "      <td>4.1</td>\n",
       "      <td>159</td>\n",
       "      <td>10000</td>\n",
       "      <td>0.0</td>\n",
       "      <td>1.0</td>\n",
       "      <td>0.0</td>\n",
       "      <td>0.0</td>\n",
       "      <td>0.0</td>\n",
       "      <td>0.0</td>\n",
       "      <td>...</td>\n",
       "      <td>0.0</td>\n",
       "      <td>0.0</td>\n",
       "      <td>0.0</td>\n",
       "      <td>0.0</td>\n",
       "      <td>0.0</td>\n",
       "      <td>0.0</td>\n",
       "      <td>0.0</td>\n",
       "      <td>0.0</td>\n",
       "      <td>0.0</td>\n",
       "      <td>0.0</td>\n",
       "    </tr>\n",
       "    <tr>\n",
       "      <td>1</td>\n",
       "      <td>Coloring book moana</td>\n",
       "      <td>3.9</td>\n",
       "      <td>967</td>\n",
       "      <td>500000</td>\n",
       "      <td>0.0</td>\n",
       "      <td>1.0</td>\n",
       "      <td>0.0</td>\n",
       "      <td>0.0</td>\n",
       "      <td>0.0</td>\n",
       "      <td>0.0</td>\n",
       "      <td>...</td>\n",
       "      <td>0.0</td>\n",
       "      <td>0.0</td>\n",
       "      <td>0.0</td>\n",
       "      <td>0.0</td>\n",
       "      <td>0.0</td>\n",
       "      <td>0.0</td>\n",
       "      <td>0.0</td>\n",
       "      <td>0.0</td>\n",
       "      <td>0.0</td>\n",
       "      <td>0.0</td>\n",
       "    </tr>\n",
       "    <tr>\n",
       "      <td>2</td>\n",
       "      <td>U Launcher Lite – FREE Live Cool Themes, Hide ...</td>\n",
       "      <td>4.7</td>\n",
       "      <td>87510</td>\n",
       "      <td>5000000</td>\n",
       "      <td>0.0</td>\n",
       "      <td>1.0</td>\n",
       "      <td>0.0</td>\n",
       "      <td>0.0</td>\n",
       "      <td>0.0</td>\n",
       "      <td>0.0</td>\n",
       "      <td>...</td>\n",
       "      <td>0.0</td>\n",
       "      <td>0.0</td>\n",
       "      <td>0.0</td>\n",
       "      <td>0.0</td>\n",
       "      <td>0.0</td>\n",
       "      <td>0.0</td>\n",
       "      <td>0.0</td>\n",
       "      <td>0.0</td>\n",
       "      <td>0.0</td>\n",
       "      <td>0.0</td>\n",
       "    </tr>\n",
       "    <tr>\n",
       "      <td>3</td>\n",
       "      <td>Sketch - Draw &amp; Paint</td>\n",
       "      <td>4.5</td>\n",
       "      <td>215644</td>\n",
       "      <td>50000000</td>\n",
       "      <td>0.0</td>\n",
       "      <td>1.0</td>\n",
       "      <td>0.0</td>\n",
       "      <td>0.0</td>\n",
       "      <td>0.0</td>\n",
       "      <td>0.0</td>\n",
       "      <td>...</td>\n",
       "      <td>0.0</td>\n",
       "      <td>0.0</td>\n",
       "      <td>0.0</td>\n",
       "      <td>0.0</td>\n",
       "      <td>0.0</td>\n",
       "      <td>0.0</td>\n",
       "      <td>0.0</td>\n",
       "      <td>0.0</td>\n",
       "      <td>0.0</td>\n",
       "      <td>0.0</td>\n",
       "    </tr>\n",
       "    <tr>\n",
       "      <td>4</td>\n",
       "      <td>Pixel Draw - Number Art Coloring Book</td>\n",
       "      <td>4.3</td>\n",
       "      <td>967</td>\n",
       "      <td>100000</td>\n",
       "      <td>0.0</td>\n",
       "      <td>1.0</td>\n",
       "      <td>0.0</td>\n",
       "      <td>0.0</td>\n",
       "      <td>0.0</td>\n",
       "      <td>0.0</td>\n",
       "      <td>...</td>\n",
       "      <td>0.0</td>\n",
       "      <td>0.0</td>\n",
       "      <td>0.0</td>\n",
       "      <td>0.0</td>\n",
       "      <td>0.0</td>\n",
       "      <td>0.0</td>\n",
       "      <td>0.0</td>\n",
       "      <td>0.0</td>\n",
       "      <td>0.0</td>\n",
       "      <td>0.0</td>\n",
       "    </tr>\n",
       "  </tbody>\n",
       "</table>\n",
       "<p>5 rows × 77 columns</p>\n",
       "</div>"
      ],
      "text/plain": [
       "                                                 App  Rating Reviews  \\\n",
       "0     Photo Editor & Candy Camera & Grid & ScrapBook     4.1     159   \n",
       "1                                Coloring book moana     3.9     967   \n",
       "2  U Launcher Lite – FREE Live Cool Themes, Hide ...     4.7   87510   \n",
       "3                              Sketch - Draw & Paint     4.5  215644   \n",
       "4              Pixel Draw - Number Art Coloring Book     4.3     967   \n",
       "\n",
       "   Installs  Price  x0_ART_AND_DESIGN  x0_AUTO_AND_VEHICLES  x0_BEAUTY  \\\n",
       "0     10000    0.0                1.0                   0.0        0.0   \n",
       "1    500000    0.0                1.0                   0.0        0.0   \n",
       "2   5000000    0.0                1.0                   0.0        0.0   \n",
       "3  50000000    0.0                1.0                   0.0        0.0   \n",
       "4    100000    0.0                1.0                   0.0        0.0   \n",
       "\n",
       "   x0_BOOKS_AND_REFERENCE  x0_BUSINESS  ...  x0_5.0 - 6.0  x0_5.0 - 8.0  \\\n",
       "0                     0.0          0.0  ...           0.0           0.0   \n",
       "1                     0.0          0.0  ...           0.0           0.0   \n",
       "2                     0.0          0.0  ...           0.0           0.0   \n",
       "3                     0.0          0.0  ...           0.0           0.0   \n",
       "4                     0.0          0.0  ...           0.0           0.0   \n",
       "\n",
       "   x0_5.0 and up  x0_5.1 and up  x0_6.0 and up  x0_7.0 - 7.1.1  x0_7.0 and up  \\\n",
       "0            0.0            0.0            0.0             0.0            0.0   \n",
       "1            0.0            0.0            0.0             0.0            0.0   \n",
       "2            0.0            0.0            0.0             0.0            0.0   \n",
       "3            0.0            0.0            0.0             0.0            0.0   \n",
       "4            0.0            0.0            0.0             0.0            0.0   \n",
       "\n",
       "   x0_7.1 and up  x0_8.0 and up  x0_Varies with device  \n",
       "0            0.0            0.0                    0.0  \n",
       "1            0.0            0.0                    0.0  \n",
       "2            0.0            0.0                    0.0  \n",
       "3            0.0            0.0                    0.0  \n",
       "4            0.0            0.0                    0.0  \n",
       "\n",
       "[5 rows x 77 columns]"
      ]
     },
     "execution_count": 167,
     "metadata": {},
     "output_type": "execute_result"
    }
   ],
   "source": [
    "df['Installs'] = [int(x.replace('+', '').replace(',', '')) for x in df['Installs']]\n",
    "df['Price'] = [float(x.replace('$', '')) for x in df['Price']]\n",
    "for col in ['Category', 'Type', 'Content Rating', 'Android Ver']:\n",
    "    df = onehot_encode_col(df, col)\n",
    "\n",
    "df.head()"
   ]
  },
  {
   "cell_type": "markdown",
   "metadata": {},
   "source": [
    "Since we plan on doing regression AND classification, we make two different sets of training/validation/testing data. In the regression case, we keep the target as a continuous feature, and in the classification case, we split the target ratings into a binary classification (1 for above median value, 0 for less than). This allows us to create a 50 50 split in data, ensuring we won't overfit to one category, and giving us a measurement of above average and below average. For both sets of data, we apply a min max scaler over the continuous features/target (notice we only apply this to the feature in the regression case. "
   ]
  },
  {
   "cell_type": "code",
   "execution_count": 168,
   "metadata": {},
   "outputs": [],
   "source": [
    "df_regr = df.copy()"
   ]
  },
  {
   "cell_type": "code",
   "execution_count": 169,
   "metadata": {},
   "outputs": [],
   "source": [
    "features = df_regr.drop(['App', 'Rating'], axis=1)\n",
    "target = df['Rating']"
   ]
  },
  {
   "cell_type": "code",
   "execution_count": 170,
   "metadata": {},
   "outputs": [
    {
     "name": "stderr",
     "output_type": "stream",
     "text": [
      "C:\\Users\\Stanley Wu\\Anaconda3\\lib\\site-packages\\ipykernel_launcher.py:14: SettingWithCopyWarning:\n",
      "\n",
      "\n",
      "A value is trying to be set on a copy of a slice from a DataFrame.\n",
      "Try using .loc[row_indexer,col_indexer] = value instead\n",
      "\n",
      "See the caveats in the documentation: http://pandas.pydata.org/pandas-docs/stable/user_guide/indexing.html#returning-a-view-versus-a-copy\n",
      "\n",
      "C:\\Users\\Stanley Wu\\Anaconda3\\lib\\site-packages\\pandas\\core\\indexing.py:494: SettingWithCopyWarning:\n",
      "\n",
      "\n",
      "A value is trying to be set on a copy of a slice from a DataFrame.\n",
      "Try using .loc[row_indexer,col_indexer] = value instead\n",
      "\n",
      "See the caveats in the documentation: http://pandas.pydata.org/pandas-docs/stable/user_guide/indexing.html#returning-a-view-versus-a-copy\n",
      "\n"
     ]
    },
    {
     "data": {
      "text/html": [
       "<div>\n",
       "<style scoped>\n",
       "    .dataframe tbody tr th:only-of-type {\n",
       "        vertical-align: middle;\n",
       "    }\n",
       "\n",
       "    .dataframe tbody tr th {\n",
       "        vertical-align: top;\n",
       "    }\n",
       "\n",
       "    .dataframe thead th {\n",
       "        text-align: right;\n",
       "    }\n",
       "</style>\n",
       "<table border=\"1\" class=\"dataframe\">\n",
       "  <thead>\n",
       "    <tr style=\"text-align: right;\">\n",
       "      <th></th>\n",
       "      <th>Reviews</th>\n",
       "      <th>Installs</th>\n",
       "      <th>Price</th>\n",
       "      <th>x0_ART_AND_DESIGN</th>\n",
       "      <th>x0_AUTO_AND_VEHICLES</th>\n",
       "      <th>x0_BEAUTY</th>\n",
       "      <th>x0_BOOKS_AND_REFERENCE</th>\n",
       "      <th>x0_BUSINESS</th>\n",
       "      <th>x0_COMICS</th>\n",
       "      <th>x0_COMMUNICATION</th>\n",
       "      <th>...</th>\n",
       "      <th>x0_5.0 - 6.0</th>\n",
       "      <th>x0_5.0 - 8.0</th>\n",
       "      <th>x0_5.0 and up</th>\n",
       "      <th>x0_5.1 and up</th>\n",
       "      <th>x0_6.0 and up</th>\n",
       "      <th>x0_7.0 - 7.1.1</th>\n",
       "      <th>x0_7.0 and up</th>\n",
       "      <th>x0_7.1 and up</th>\n",
       "      <th>x0_8.0 and up</th>\n",
       "      <th>x0_Varies with device</th>\n",
       "    </tr>\n",
       "  </thead>\n",
       "  <tbody>\n",
       "    <tr>\n",
       "      <td>2858</td>\n",
       "      <td>2.973734e-03</td>\n",
       "      <td>0.005000</td>\n",
       "      <td>0.000000</td>\n",
       "      <td>0.0</td>\n",
       "      <td>0.0</td>\n",
       "      <td>0.0</td>\n",
       "      <td>0.0</td>\n",
       "      <td>0.0</td>\n",
       "      <td>0.0</td>\n",
       "      <td>0.0</td>\n",
       "      <td>...</td>\n",
       "      <td>0.0</td>\n",
       "      <td>0.0</td>\n",
       "      <td>0.0</td>\n",
       "      <td>0.0</td>\n",
       "      <td>0.0</td>\n",
       "      <td>0.0</td>\n",
       "      <td>0.0</td>\n",
       "      <td>0.0</td>\n",
       "      <td>0.0</td>\n",
       "      <td>0.0</td>\n",
       "    </tr>\n",
       "    <tr>\n",
       "      <td>2514</td>\n",
       "      <td>7.946688e-02</td>\n",
       "      <td>0.100000</td>\n",
       "      <td>0.000000</td>\n",
       "      <td>0.0</td>\n",
       "      <td>0.0</td>\n",
       "      <td>0.0</td>\n",
       "      <td>0.0</td>\n",
       "      <td>0.0</td>\n",
       "      <td>0.0</td>\n",
       "      <td>0.0</td>\n",
       "      <td>...</td>\n",
       "      <td>0.0</td>\n",
       "      <td>0.0</td>\n",
       "      <td>0.0</td>\n",
       "      <td>0.0</td>\n",
       "      <td>0.0</td>\n",
       "      <td>0.0</td>\n",
       "      <td>0.0</td>\n",
       "      <td>0.0</td>\n",
       "      <td>0.0</td>\n",
       "      <td>0.0</td>\n",
       "    </tr>\n",
       "    <tr>\n",
       "      <td>1978</td>\n",
       "      <td>1.215482e-06</td>\n",
       "      <td>0.000005</td>\n",
       "      <td>0.009975</td>\n",
       "      <td>0.0</td>\n",
       "      <td>0.0</td>\n",
       "      <td>0.0</td>\n",
       "      <td>0.0</td>\n",
       "      <td>0.0</td>\n",
       "      <td>0.0</td>\n",
       "      <td>0.0</td>\n",
       "      <td>...</td>\n",
       "      <td>0.0</td>\n",
       "      <td>0.0</td>\n",
       "      <td>0.0</td>\n",
       "      <td>0.0</td>\n",
       "      <td>0.0</td>\n",
       "      <td>0.0</td>\n",
       "      <td>0.0</td>\n",
       "      <td>0.0</td>\n",
       "      <td>0.0</td>\n",
       "      <td>0.0</td>\n",
       "    </tr>\n",
       "    <tr>\n",
       "      <td>111</td>\n",
       "      <td>3.710418e-07</td>\n",
       "      <td>0.000010</td>\n",
       "      <td>0.000000</td>\n",
       "      <td>0.0</td>\n",
       "      <td>0.0</td>\n",
       "      <td>1.0</td>\n",
       "      <td>0.0</td>\n",
       "      <td>0.0</td>\n",
       "      <td>0.0</td>\n",
       "      <td>0.0</td>\n",
       "      <td>...</td>\n",
       "      <td>0.0</td>\n",
       "      <td>0.0</td>\n",
       "      <td>0.0</td>\n",
       "      <td>0.0</td>\n",
       "      <td>0.0</td>\n",
       "      <td>0.0</td>\n",
       "      <td>0.0</td>\n",
       "      <td>0.0</td>\n",
       "      <td>0.0</td>\n",
       "      <td>0.0</td>\n",
       "    </tr>\n",
       "    <tr>\n",
       "      <td>414</td>\n",
       "      <td>2.334493e-04</td>\n",
       "      <td>0.000100</td>\n",
       "      <td>0.009975</td>\n",
       "      <td>0.0</td>\n",
       "      <td>0.0</td>\n",
       "      <td>0.0</td>\n",
       "      <td>0.0</td>\n",
       "      <td>0.0</td>\n",
       "      <td>0.0</td>\n",
       "      <td>1.0</td>\n",
       "      <td>...</td>\n",
       "      <td>0.0</td>\n",
       "      <td>0.0</td>\n",
       "      <td>0.0</td>\n",
       "      <td>0.0</td>\n",
       "      <td>0.0</td>\n",
       "      <td>0.0</td>\n",
       "      <td>0.0</td>\n",
       "      <td>0.0</td>\n",
       "      <td>0.0</td>\n",
       "      <td>0.0</td>\n",
       "    </tr>\n",
       "  </tbody>\n",
       "</table>\n",
       "<p>5 rows × 75 columns</p>\n",
       "</div>"
      ],
      "text/plain": [
       "           Reviews  Installs     Price  x0_ART_AND_DESIGN  \\\n",
       "2858  2.973734e-03  0.005000  0.000000                0.0   \n",
       "2514  7.946688e-02  0.100000  0.000000                0.0   \n",
       "1978  1.215482e-06  0.000005  0.009975                0.0   \n",
       "111   3.710418e-07  0.000010  0.000000                0.0   \n",
       "414   2.334493e-04  0.000100  0.009975                0.0   \n",
       "\n",
       "      x0_AUTO_AND_VEHICLES  x0_BEAUTY  x0_BOOKS_AND_REFERENCE  x0_BUSINESS  \\\n",
       "2858                   0.0        0.0                     0.0          0.0   \n",
       "2514                   0.0        0.0                     0.0          0.0   \n",
       "1978                   0.0        0.0                     0.0          0.0   \n",
       "111                    0.0        1.0                     0.0          0.0   \n",
       "414                    0.0        0.0                     0.0          0.0   \n",
       "\n",
       "      x0_COMICS  x0_COMMUNICATION  ...  x0_5.0 - 6.0  x0_5.0 - 8.0  \\\n",
       "2858        0.0               0.0  ...           0.0           0.0   \n",
       "2514        0.0               0.0  ...           0.0           0.0   \n",
       "1978        0.0               0.0  ...           0.0           0.0   \n",
       "111         0.0               0.0  ...           0.0           0.0   \n",
       "414         0.0               1.0  ...           0.0           0.0   \n",
       "\n",
       "      x0_5.0 and up  x0_5.1 and up  x0_6.0 and up  x0_7.0 - 7.1.1  \\\n",
       "2858            0.0            0.0            0.0             0.0   \n",
       "2514            0.0            0.0            0.0             0.0   \n",
       "1978            0.0            0.0            0.0             0.0   \n",
       "111             0.0            0.0            0.0             0.0   \n",
       "414             0.0            0.0            0.0             0.0   \n",
       "\n",
       "      x0_7.0 and up  x0_7.1 and up  x0_8.0 and up  x0_Varies with device  \n",
       "2858            0.0            0.0            0.0                    0.0  \n",
       "2514            0.0            0.0            0.0                    0.0  \n",
       "1978            0.0            0.0            0.0                    0.0  \n",
       "111             0.0            0.0            0.0                    0.0  \n",
       "414             0.0            0.0            0.0                    0.0  \n",
       "\n",
       "[5 rows x 75 columns]"
      ]
     },
     "execution_count": 170,
     "metadata": {},
     "output_type": "execute_result"
    }
   ],
   "source": [
    "from sklearn.preprocessing import MinMaxScaler\n",
    "from sklearn.model_selection import train_test_split\n",
    "import numpy as np\n",
    "\n",
    "X_train_regr, X_test_regr, y_train_regr, y_test_regr = train_test_split(features, target, train_size=0.8, random_state=3000)\n",
    "X_train_regr, X_val_regr, y_train_regr, y_val_regr = train_test_split(X_train_regr, y_train_regr, train_size=0.75, random_state=3000)\n",
    "\n",
    "#create the scaler\n",
    "scaler = MinMaxScaler()\n",
    "scaler.fit(X_train_regr[['Reviews', 'Installs', 'Price']])\n",
    "\n",
    "X_train_regr[['Reviews', 'Installs', 'Price']] = scaler.transform(X_train_regr[['Reviews', 'Installs', 'Price',]])\n",
    "X_val_regr[['Reviews', 'Installs', 'Price']] = scaler.transform(X_val_regr[['Reviews', 'Installs', 'Price']])\n",
    "X_test_regr[['Reviews', 'Installs', 'Price']] = scaler.transform(X_test_regr[['Reviews', 'Installs', 'Price']])\n",
    "\n",
    "scaler = MinMaxScaler()\n",
    "scaler.fit(np.array(y_train_regr).reshape(-1, 1))\n",
    "\n",
    "y_train_regr = scaler.transform(np.array(y_train_regr).reshape(-1, 1)).flatten()\n",
    "y_val_regr = scaler.transform(np.array(y_val_regr).reshape(-1, 1)).flatten()\n",
    "y_test_regr = scaler.transform(np.array(y_test_regr).reshape(-1, 1)).flatten()\n",
    "\n",
    "X_train_regr.head()"
   ]
  },
  {
   "cell_type": "markdown",
   "metadata": {},
   "source": [
    "As for feature selection, we use Model-Based Feature Selection to select the featuers with most importance based on the DecisionTreeRegressor. Since this dataset will be used for regression, we use a regressor as the model to select features from."
   ]
  },
  {
   "cell_type": "code",
   "execution_count": 171,
   "metadata": {},
   "outputs": [],
   "source": [
    "from sklearn.feature_selection import SelectFromModel\n",
    "from sklearn.tree import DecisionTreeRegressor\n",
    "\n",
    "select = SelectFromModel(DecisionTreeRegressor(random_state=3000), threshold='median')\n",
    "select.fit(X_train_regr, y_train_regr)\n",
    "\n",
    "#transform training and testing sets so only the selected features are retained\n",
    "X_train_selected_regr = select.transform(X_train_regr)\n",
    "X_val_selected_regr = select.transform(X_val_regr)\n",
    "X_test_selected_regr = select.transform(X_test_regr)"
   ]
  },
  {
   "cell_type": "code",
   "execution_count": 172,
   "metadata": {},
   "outputs": [
    {
     "name": "stdout",
     "output_type": "stream",
     "text": [
      "Index(['Reviews', 'Installs', 'Price', 'x0_AUTO_AND_VEHICLES', 'x0_BUSINESS',\n",
      "       'x0_COMMUNICATION', 'x0_DATING', 'x0_FAMILY', 'x0_FINANCE',\n",
      "       'x0_FOOD_AND_DRINK', 'x0_GAME', 'x0_HEALTH_AND_FITNESS', 'x0_LIFESTYLE',\n",
      "       'x0_MEDICAL', 'x0_NEWS_AND_MAGAZINES', 'x0_PERSONALIZATION',\n",
      "       'x0_PHOTOGRAPHY', 'x0_PRODUCTIVITY', 'x0_SHOPPING', 'x0_SOCIAL',\n",
      "       'x0_SPORTS', 'x0_TOOLS', 'x0_TRAVEL_AND_LOCAL', 'x0_Paid',\n",
      "       'x0_Everyone', 'x0_Everyone 10+', 'x0_Teen', 'x0_2.2 and up',\n",
      "       'x0_2.3 and up', 'x0_2.3.3 and up', 'x0_4.0 and up', 'x0_4.0.3 and up',\n",
      "       'x0_4.1 and up', 'x0_4.2 and up', 'x0_4.3 and up', 'x0_4.4 and up',\n",
      "       'x0_5.0 and up', 'x0_Varies with device'],\n",
      "      dtype='object')\n"
     ]
    }
   ],
   "source": [
    "print(features.columns[select.get_support()])"
   ]
  },
  {
   "cell_type": "markdown",
   "metadata": {},
   "source": [
    "For our classification dataset, we must first transform our continuous features to discrete 1 and 0s. We do this by mapping ratings above the median to 1, and below to 0. Ensuring 50 50 split and giving us a metric of above average and below average apps."
   ]
  },
  {
   "cell_type": "code",
   "execution_count": 173,
   "metadata": {},
   "outputs": [
    {
     "data": {
      "text/plain": [
       "0       0\n",
       "1       0\n",
       "2       1\n",
       "3       1\n",
       "4       1\n",
       "       ..\n",
       "9355    0\n",
       "9356    1\n",
       "9357    1\n",
       "9358    1\n",
       "9359    1\n",
       "Name: Rating, Length: 9360, dtype: int64"
      ]
     },
     "execution_count": 173,
     "metadata": {},
     "output_type": "execute_result"
    }
   ],
   "source": [
    "med = df['Rating'].median()\n",
    "\n",
    "def transform_class(rating):\n",
    "    if rating < med:\n",
    "        return 0\n",
    "    else:\n",
    "        return 1\n",
    "\n",
    "target = df['Rating'].apply(transform_class)\n",
    "target"
   ]
  },
  {
   "cell_type": "markdown",
   "metadata": {},
   "source": [
    "Again, we do training/validation/testing split, and again perform a min max scaler over our continuous features, but not the y value this time, since it is no longer continuous."
   ]
  },
  {
   "cell_type": "code",
   "execution_count": 174,
   "metadata": {},
   "outputs": [
    {
     "name": "stderr",
     "output_type": "stream",
     "text": [
      "C:\\Users\\Stanley Wu\\Anaconda3\\lib\\site-packages\\ipykernel_launcher.py:10: SettingWithCopyWarning:\n",
      "\n",
      "\n",
      "A value is trying to be set on a copy of a slice from a DataFrame.\n",
      "Try using .loc[row_indexer,col_indexer] = value instead\n",
      "\n",
      "See the caveats in the documentation: http://pandas.pydata.org/pandas-docs/stable/user_guide/indexing.html#returning-a-view-versus-a-copy\n",
      "\n",
      "C:\\Users\\Stanley Wu\\Anaconda3\\lib\\site-packages\\pandas\\core\\indexing.py:494: SettingWithCopyWarning:\n",
      "\n",
      "\n",
      "A value is trying to be set on a copy of a slice from a DataFrame.\n",
      "Try using .loc[row_indexer,col_indexer] = value instead\n",
      "\n",
      "See the caveats in the documentation: http://pandas.pydata.org/pandas-docs/stable/user_guide/indexing.html#returning-a-view-versus-a-copy\n",
      "\n"
     ]
    },
    {
     "data": {
      "text/html": [
       "<div>\n",
       "<style scoped>\n",
       "    .dataframe tbody tr th:only-of-type {\n",
       "        vertical-align: middle;\n",
       "    }\n",
       "\n",
       "    .dataframe tbody tr th {\n",
       "        vertical-align: top;\n",
       "    }\n",
       "\n",
       "    .dataframe thead th {\n",
       "        text-align: right;\n",
       "    }\n",
       "</style>\n",
       "<table border=\"1\" class=\"dataframe\">\n",
       "  <thead>\n",
       "    <tr style=\"text-align: right;\">\n",
       "      <th></th>\n",
       "      <th>Reviews</th>\n",
       "      <th>Installs</th>\n",
       "      <th>Price</th>\n",
       "      <th>x0_ART_AND_DESIGN</th>\n",
       "      <th>x0_AUTO_AND_VEHICLES</th>\n",
       "      <th>x0_BEAUTY</th>\n",
       "      <th>x0_BOOKS_AND_REFERENCE</th>\n",
       "      <th>x0_BUSINESS</th>\n",
       "      <th>x0_COMICS</th>\n",
       "      <th>x0_COMMUNICATION</th>\n",
       "      <th>...</th>\n",
       "      <th>x0_5.0 - 6.0</th>\n",
       "      <th>x0_5.0 - 8.0</th>\n",
       "      <th>x0_5.0 and up</th>\n",
       "      <th>x0_5.1 and up</th>\n",
       "      <th>x0_6.0 and up</th>\n",
       "      <th>x0_7.0 - 7.1.1</th>\n",
       "      <th>x0_7.0 and up</th>\n",
       "      <th>x0_7.1 and up</th>\n",
       "      <th>x0_8.0 and up</th>\n",
       "      <th>x0_Varies with device</th>\n",
       "    </tr>\n",
       "  </thead>\n",
       "  <tbody>\n",
       "    <tr>\n",
       "      <td>2858</td>\n",
       "      <td>2.973734e-03</td>\n",
       "      <td>0.005000</td>\n",
       "      <td>0.000000</td>\n",
       "      <td>0.0</td>\n",
       "      <td>0.0</td>\n",
       "      <td>0.0</td>\n",
       "      <td>0.0</td>\n",
       "      <td>0.0</td>\n",
       "      <td>0.0</td>\n",
       "      <td>0.0</td>\n",
       "      <td>...</td>\n",
       "      <td>0.0</td>\n",
       "      <td>0.0</td>\n",
       "      <td>0.0</td>\n",
       "      <td>0.0</td>\n",
       "      <td>0.0</td>\n",
       "      <td>0.0</td>\n",
       "      <td>0.0</td>\n",
       "      <td>0.0</td>\n",
       "      <td>0.0</td>\n",
       "      <td>0.0</td>\n",
       "    </tr>\n",
       "    <tr>\n",
       "      <td>2514</td>\n",
       "      <td>7.946688e-02</td>\n",
       "      <td>0.100000</td>\n",
       "      <td>0.000000</td>\n",
       "      <td>0.0</td>\n",
       "      <td>0.0</td>\n",
       "      <td>0.0</td>\n",
       "      <td>0.0</td>\n",
       "      <td>0.0</td>\n",
       "      <td>0.0</td>\n",
       "      <td>0.0</td>\n",
       "      <td>...</td>\n",
       "      <td>0.0</td>\n",
       "      <td>0.0</td>\n",
       "      <td>0.0</td>\n",
       "      <td>0.0</td>\n",
       "      <td>0.0</td>\n",
       "      <td>0.0</td>\n",
       "      <td>0.0</td>\n",
       "      <td>0.0</td>\n",
       "      <td>0.0</td>\n",
       "      <td>0.0</td>\n",
       "    </tr>\n",
       "    <tr>\n",
       "      <td>1978</td>\n",
       "      <td>1.215482e-06</td>\n",
       "      <td>0.000005</td>\n",
       "      <td>0.009975</td>\n",
       "      <td>0.0</td>\n",
       "      <td>0.0</td>\n",
       "      <td>0.0</td>\n",
       "      <td>0.0</td>\n",
       "      <td>0.0</td>\n",
       "      <td>0.0</td>\n",
       "      <td>0.0</td>\n",
       "      <td>...</td>\n",
       "      <td>0.0</td>\n",
       "      <td>0.0</td>\n",
       "      <td>0.0</td>\n",
       "      <td>0.0</td>\n",
       "      <td>0.0</td>\n",
       "      <td>0.0</td>\n",
       "      <td>0.0</td>\n",
       "      <td>0.0</td>\n",
       "      <td>0.0</td>\n",
       "      <td>0.0</td>\n",
       "    </tr>\n",
       "    <tr>\n",
       "      <td>111</td>\n",
       "      <td>3.710418e-07</td>\n",
       "      <td>0.000010</td>\n",
       "      <td>0.000000</td>\n",
       "      <td>0.0</td>\n",
       "      <td>0.0</td>\n",
       "      <td>1.0</td>\n",
       "      <td>0.0</td>\n",
       "      <td>0.0</td>\n",
       "      <td>0.0</td>\n",
       "      <td>0.0</td>\n",
       "      <td>...</td>\n",
       "      <td>0.0</td>\n",
       "      <td>0.0</td>\n",
       "      <td>0.0</td>\n",
       "      <td>0.0</td>\n",
       "      <td>0.0</td>\n",
       "      <td>0.0</td>\n",
       "      <td>0.0</td>\n",
       "      <td>0.0</td>\n",
       "      <td>0.0</td>\n",
       "      <td>0.0</td>\n",
       "    </tr>\n",
       "    <tr>\n",
       "      <td>414</td>\n",
       "      <td>2.334493e-04</td>\n",
       "      <td>0.000100</td>\n",
       "      <td>0.009975</td>\n",
       "      <td>0.0</td>\n",
       "      <td>0.0</td>\n",
       "      <td>0.0</td>\n",
       "      <td>0.0</td>\n",
       "      <td>0.0</td>\n",
       "      <td>0.0</td>\n",
       "      <td>1.0</td>\n",
       "      <td>...</td>\n",
       "      <td>0.0</td>\n",
       "      <td>0.0</td>\n",
       "      <td>0.0</td>\n",
       "      <td>0.0</td>\n",
       "      <td>0.0</td>\n",
       "      <td>0.0</td>\n",
       "      <td>0.0</td>\n",
       "      <td>0.0</td>\n",
       "      <td>0.0</td>\n",
       "      <td>0.0</td>\n",
       "    </tr>\n",
       "  </tbody>\n",
       "</table>\n",
       "<p>5 rows × 75 columns</p>\n",
       "</div>"
      ],
      "text/plain": [
       "           Reviews  Installs     Price  x0_ART_AND_DESIGN  \\\n",
       "2858  2.973734e-03  0.005000  0.000000                0.0   \n",
       "2514  7.946688e-02  0.100000  0.000000                0.0   \n",
       "1978  1.215482e-06  0.000005  0.009975                0.0   \n",
       "111   3.710418e-07  0.000010  0.000000                0.0   \n",
       "414   2.334493e-04  0.000100  0.009975                0.0   \n",
       "\n",
       "      x0_AUTO_AND_VEHICLES  x0_BEAUTY  x0_BOOKS_AND_REFERENCE  x0_BUSINESS  \\\n",
       "2858                   0.0        0.0                     0.0          0.0   \n",
       "2514                   0.0        0.0                     0.0          0.0   \n",
       "1978                   0.0        0.0                     0.0          0.0   \n",
       "111                    0.0        1.0                     0.0          0.0   \n",
       "414                    0.0        0.0                     0.0          0.0   \n",
       "\n",
       "      x0_COMICS  x0_COMMUNICATION  ...  x0_5.0 - 6.0  x0_5.0 - 8.0  \\\n",
       "2858        0.0               0.0  ...           0.0           0.0   \n",
       "2514        0.0               0.0  ...           0.0           0.0   \n",
       "1978        0.0               0.0  ...           0.0           0.0   \n",
       "111         0.0               0.0  ...           0.0           0.0   \n",
       "414         0.0               1.0  ...           0.0           0.0   \n",
       "\n",
       "      x0_5.0 and up  x0_5.1 and up  x0_6.0 and up  x0_7.0 - 7.1.1  \\\n",
       "2858            0.0            0.0            0.0             0.0   \n",
       "2514            0.0            0.0            0.0             0.0   \n",
       "1978            0.0            0.0            0.0             0.0   \n",
       "111             0.0            0.0            0.0             0.0   \n",
       "414             0.0            0.0            0.0             0.0   \n",
       "\n",
       "      x0_7.0 and up  x0_7.1 and up  x0_8.0 and up  x0_Varies with device  \n",
       "2858            0.0            0.0            0.0                    0.0  \n",
       "2514            0.0            0.0            0.0                    0.0  \n",
       "1978            0.0            0.0            0.0                    0.0  \n",
       "111             0.0            0.0            0.0                    0.0  \n",
       "414             0.0            0.0            0.0                    0.0  \n",
       "\n",
       "[5 rows x 75 columns]"
      ]
     },
     "execution_count": 174,
     "metadata": {},
     "output_type": "execute_result"
    }
   ],
   "source": [
    "X_train_class, X_test_class, y_train_class, y_test_class = train_test_split(features, target, train_size=0.8, random_state=3000)\n",
    "X_train_class, X_val_class, y_train_class, y_val_class = train_test_split(X_train_class, y_train_class, train_size=0.75, random_state=3000)\n",
    "\n",
    "#create the scaler\n",
    "scaler = MinMaxScaler()\n",
    "scaler.fit(X_train_class[['Reviews', 'Installs', 'Price']])\n",
    "\n",
    "X_train_class[['Reviews', 'Installs', 'Price']] = scaler.transform(X_train_class[['Reviews', 'Installs', 'Price']])\n",
    "X_val_class[['Reviews', 'Installs', 'Price']] = scaler.transform(X_val_class[['Reviews', 'Installs', 'Price']])\n",
    "X_test_class[['Reviews', 'Installs', 'Price']] = scaler.transform(X_test_class[['Reviews', 'Installs', 'Price']])\n",
    "\n",
    "X_train_class.head()"
   ]
  },
  {
   "cell_type": "markdown",
   "metadata": {},
   "source": [
    "Here, since we are performing classification, we will be using DecisionTreeClassifier to select our features with Model-Based Feature Selection."
   ]
  },
  {
   "cell_type": "code",
   "execution_count": 175,
   "metadata": {},
   "outputs": [],
   "source": [
    "from sklearn.tree import DecisionTreeClassifier\n",
    "\n",
    "select = SelectFromModel(DecisionTreeClassifier(random_state=3000), threshold='median')\n",
    "select.fit(X_train_class, y_train_class)\n",
    "\n",
    "#transform training and testing sets so only the selected features are retained\n",
    "X_train_selected_class = select.transform(X_train_class)\n",
    "X_val_selected_class = select.transform(X_val_class)\n",
    "X_test_selected_class = select.transform(X_test_class)"
   ]
  },
  {
   "cell_type": "code",
   "execution_count": 176,
   "metadata": {},
   "outputs": [
    {
     "name": "stdout",
     "output_type": "stream",
     "text": [
      "Index(['Reviews', 'Installs', 'Price', 'x0_BOOKS_AND_REFERENCE', 'x0_BUSINESS',\n",
      "       'x0_COMMUNICATION', 'x0_DATING', 'x0_FAMILY', 'x0_FINANCE', 'x0_GAME',\n",
      "       'x0_HEALTH_AND_FITNESS', 'x0_LIFESTYLE', 'x0_MAPS_AND_NAVIGATION',\n",
      "       'x0_MEDICAL', 'x0_NEWS_AND_MAGAZINES', 'x0_PERSONALIZATION',\n",
      "       'x0_PHOTOGRAPHY', 'x0_PRODUCTIVITY', 'x0_SHOPPING', 'x0_SPORTS',\n",
      "       'x0_TOOLS', 'x0_TRAVEL_AND_LOCAL', 'x0_Free', 'x0_Everyone',\n",
      "       'x0_Everyone 10+', 'x0_Mature 17+', 'x0_Teen', 'x0_2.2 and up',\n",
      "       'x0_2.3 and up', 'x0_2.3.3 and up', 'x0_4.0 and up', 'x0_4.0.3 and up',\n",
      "       'x0_4.1 and up', 'x0_4.2 and up', 'x0_4.3 and up', 'x0_4.4 and up',\n",
      "       'x0_5.0 and up', 'x0_Varies with device'],\n",
      "      dtype='object')\n"
     ]
    }
   ],
   "source": [
    "print(features.columns[select.get_support()])"
   ]
  },
  {
   "cell_type": "markdown",
   "metadata": {},
   "source": [
    "### 3.2. Data Exploration\n"
   ]
  },
  {
   "cell_type": "markdown",
   "metadata": {},
   "source": [
    "We have three features that were quantitative data, thus not requiring one-hot encoding. These features are the number of reviews, the number of installs, and the price. Therefore, we plotted each of these features against the rating using a regression plot to visualize any effects."
   ]
  },
  {
   "cell_type": "code",
   "execution_count": 177,
   "metadata": {},
   "outputs": [
    {
     "data": {
      "text/plain": [
       "Text(0.5, 1.0, 'Number of Reviews vs. Rating')"
      ]
     },
     "execution_count": 177,
     "metadata": {},
     "output_type": "execute_result"
    },
    {
     "data": {
      "image/png": "[encoded data removed]",
      "text/plain": [
       "<Figure size 432x288 with 1 Axes>"
      ]
     },
     "metadata": {
      "needs_background": "light"
     },
     "output_type": "display_data"
    }
   ],
   "source": [
    "import matplotlib.pyplot as plt\n",
    "import seaborn as sns\n",
    "\n",
    "regress_df = df.copy()\n",
    "regress_df['Reviews'] = df['Reviews'].astype('int64')\n",
    "\n",
    "sns.regplot(data=regress_df, x = \"Reviews\", y=\"Rating\").set_title(\"Number of Reviews vs. Rating\")"
   ]
  },
  {
   "cell_type": "markdown",
   "metadata": {},
   "source": [
    "As we can see, there are many outliers to this graph, with very little points past the third tic. This skews the data as it is hard to tell what is going on within the cluster."
   ]
  },
  {
   "cell_type": "code",
   "execution_count": 178,
   "metadata": {},
   "outputs": [
    {
     "data": {
      "text/plain": [
       "Text(0.5, 1.0, 'Number of Reviews vs. Rating')"
      ]
     },
     "execution_count": 178,
     "metadata": {},
     "output_type": "execute_result"
    },
    {
     "data": {
      "image/png": "[encoded data removed]",
      "text/plain": [
       "<Figure size 432x288 with 1 Axes>"
      ]
     },
     "metadata": {
      "needs_background": "light"
     },
     "output_type": "display_data"
    }
   ],
   "source": [
    "regress_small_df = regress_df.nsmallest(9000, ['Reviews'])\n",
    "sns.regplot(data=regress_small_df, x = \"Reviews\", y=\"Rating\").set_title(\"Number of Reviews vs. Rating\")"
   ]
  },
  {
   "cell_type": "markdown",
   "metadata": {},
   "source": [
    "Looking at the graph closer, we can see that there is a subtle positive relationship between the rating and the number of reviews. Another thing to notice is the range in ratings for when the number of reviews is extremely small. This is likely due to lesser popular apps having varying ratings due to there being such a small number of reviews."
   ]
  },
  {
   "cell_type": "code",
   "execution_count": 179,
   "metadata": {},
   "outputs": [
    {
     "data": {
      "text/plain": [
       "Text(0.5, 1.0, 'Number of Installs vs. Rating')"
      ]
     },
     "execution_count": 179,
     "metadata": {},
     "output_type": "execute_result"
    },
    {
     "data": {
      "image/png": "[encoded data removed]",
      "text/plain": [
       "<Figure size 432x288 with 1 Axes>"
      ]
     },
     "metadata": {
      "needs_background": "light"
     },
     "output_type": "display_data"
    }
   ],
   "source": [
    "sns.regplot(data=regress_df, x = \"Installs\", y=\"Rating\").set_title(\"Number of Installs vs. Rating\")"
   ]
  },
  {
   "cell_type": "markdown",
   "metadata": {},
   "source": [
    "As we can see here, there is also a subtle positive relationship between the number of installs and the rating. This is likely due to more popular applications having much more installs. Similar to the number of ratings, there is a great variance in rating when there are little installs, likely due to the average rating being easily swayed."
   ]
  },
  {
   "cell_type": "code",
   "execution_count": 180,
   "metadata": {},
   "outputs": [
    {
     "data": {
      "text/plain": [
       "Text(0.5, 1.0, 'Price vs. Rating')"
      ]
     },
     "execution_count": 180,
     "metadata": {},
     "output_type": "execute_result"
    },
    {
     "data": {
      "image/png": "[encoded data removed]",
      "text/plain": [
       "<Figure size 432x288 with 1 Axes>"
      ]
     },
     "metadata": {
      "needs_background": "light"
     },
     "output_type": "display_data"
    }
   ],
   "source": [
    "sns.regplot(data=regress_df, x = \"Price\", y=\"Rating\").set_title(\"Price vs. Rating\")"
   ]
  },
  {
   "cell_type": "markdown",
   "metadata": {},
   "source": [
    "As we can see here, there is a subtle negative relationship between the price and the rating, but there are also a lot of outliers."
   ]
  },
  {
   "cell_type": "code",
   "execution_count": 181,
   "metadata": {},
   "outputs": [
    {
     "data": {
      "text/plain": [
       "Text(0.5, 1.0, 'Price vs. Rating')"
      ]
     },
     "execution_count": 181,
     "metadata": {},
     "output_type": "execute_result"
    },
    {
     "data": {
      "image/png": "[encoded data removed]",
      "text/plain": [
       "<Figure size 432x288 with 1 Axes>"
      ]
     },
     "metadata": {
      "needs_background": "light"
     },
     "output_type": "display_data"
    }
   ],
   "source": [
    "regress_small_df = regress_df.nsmallest(9340, ['Price'])\n",
    "sns.regplot(data=regress_small_df, x = \"Price\", y=\"Rating\").set_title(\"Price vs. Rating\")"
   ]
  },
  {
   "cell_type": "markdown",
   "metadata": {},
   "source": [
    "However, once we zoom in more, we can see that it's hard to distinguish any relationship between the price and rating. Just like the last two, there is a large variance when the prie is at zero."
   ]
  },
  {
   "cell_type": "markdown",
   "metadata": {},
   "source": [
    "We have many features that are categorical data, so we had to use one-hot encoding to be able to run a machine learning algorithm through them. In order to visualize their effects onto a graph, we need to know the frequency for each category in the categorical data. We will first visualize the effect of the category of the application on the rating.\n",
    "\n",
    "\n",
    "Here we create a dictionary for each category and their frequency."
   ]
  },
  {
   "cell_type": "code",
   "execution_count": 182,
   "metadata": {
    "scrolled": true
   },
   "outputs": [
    {
     "data": {
      "text/plain": [
       "{'x0_ART_AND_DESIGN': 61,\n",
       " 'x0_AUTO_AND_VEHICLES': 73,\n",
       " 'x0_BEAUTY': 42,\n",
       " 'x0_BOOKS_AND_REFERENCE': 178,\n",
       " 'x0_BUSINESS': 303,\n",
       " 'x0_COMICS': 58,\n",
       " 'x0_COMMUNICATION': 328,\n",
       " 'x0_DATING': 195,\n",
       " 'x0_EDUCATION': 155,\n",
       " 'x0_ENTERTAINMENT': 149,\n",
       " 'x0_EVENTS': 45,\n",
       " 'x0_FAMILY': 1746,\n",
       " 'x0_FINANCE': 323,\n",
       " 'x0_FOOD_AND_DRINK': 109,\n",
       " 'x0_GAME': 1097,\n",
       " 'x0_HEALTH_AND_FITNESS': 297,\n",
       " 'x0_HOUSE_AND_HOME': 76,\n",
       " 'x0_LIBRARIES_AND_DEMO': 64,\n",
       " 'x0_LIFESTYLE': 314,\n",
       " 'x0_MAPS_AND_NAVIGATION': 124,\n",
       " 'x0_MEDICAL': 350,\n",
       " 'x0_NEWS_AND_MAGAZINES': 233,\n",
       " 'x0_PARENTING': 50,\n",
       " 'x0_PERSONALIZATION': 312,\n",
       " 'x0_PHOTOGRAPHY': 317,\n",
       " 'x0_PRODUCTIVITY': 351,\n",
       " 'x0_SHOPPING': 238,\n",
       " 'x0_SOCIAL': 259,\n",
       " 'x0_SPORTS': 319,\n",
       " 'x0_TOOLS': 733,\n",
       " 'x0_TRAVEL_AND_LOCAL': 226,\n",
       " 'x0_VIDEO_PLAYERS': 160,\n",
       " 'x0_WEATHER': 75}"
      ]
     },
     "execution_count": 182,
     "metadata": {},
     "output_type": "execute_result"
    }
   ],
   "source": [
    "cols = [0, 1, 2, 3, 4] + list(range(38, 77))\n",
    "category_df = df.drop(df.columns[cols], axis=1)\n",
    "\n",
    "categories = {}\n",
    "for category in category_df.columns:\n",
    "    total = 0\n",
    "    for i in range(len(category_df)):\n",
    "        if category_df[category].iloc[i] == 1:\n",
    "            total += 1\n",
    "    categories[category] = total\n",
    "    \n",
    "categories"
   ]
  },
  {
   "cell_type": "markdown",
   "metadata": {},
   "source": [
    "Since there are many categories, we picked the categories with the three highest frequencies."
   ]
  },
  {
   "cell_type": "code",
   "execution_count": 183,
   "metadata": {},
   "outputs": [
    {
     "data": {
      "text/plain": [
       "[('x0_FAMILY', 1746), ('x0_GAME', 1097), ('x0_TOOLS', 733)]"
      ]
     },
     "execution_count": 183,
     "metadata": {},
     "output_type": "execute_result"
    }
   ],
   "source": [
    "from collections import Counter \n",
    "top_3_categories = Counter(categories).most_common(3)\n",
    "top_3_categories"
   ]
  },
  {
   "cell_type": "code",
   "execution_count": 184,
   "metadata": {},
   "outputs": [],
   "source": [
    "import plotly.express as px\n",
    "\n",
    "category_df['Rating'] = df['Rating']\n",
    "\n",
    "for category_tuple in top_3_categories:\n",
    "    category = category_tuple[0]\n",
    "    fig = px.box(category_df, x = category, y = \"Rating\")\n",
    "    fig.update_layout (\n",
    "        title = {'text': category[3:] + ' vs. Rating', 'yanchor': 'top'})"
   ]
  },
  {
   "cell_type": "markdown",
   "metadata": {},
   "source": [
    "<img src=\"https://raw.githubusercontent.com/yoonpatrick3/ds3000-fp/main/img/familybox.png?raw=true\" alt=\"img/familybox.jpg\" width=700>\n",
    "<img src=\"https://raw.githubusercontent.com/yoonpatrick3/ds3000-fp/main/img/gamebox.png?raw=true\" alt=\"img/familybox.jpg\" width=700>\n",
    "<img src=\"https://raw.githubusercontent.com/yoonpatrick3/ds3000-fp/main/img/toolsbox.png?raw=true\" alt=\"img/familybox.jpg\" width=700>"
   ]
  },
  {
   "cell_type": "markdown",
   "metadata": {},
   "source": [
    "These three box plots display the effect of an application's genre on the rating on the Google Play Store. For each genre, two box plots are displayed. One for the distribution of applications falling under that specific genre and one for the applications that do not fall under that specific genre (This is representative of the one hot encoding we applied). These were the three most frequent categories in our dataset, consisting of Family, Game, and Tools. As we can see, none of the figures above led to a significant diffference in the rating.\n",
    "\n",
    "Now we will do this with the other features that are one hot encoded: Paid/Free, Content Rating, and Android Version"
   ]
  },
  {
   "cell_type": "code",
   "execution_count": 185,
   "metadata": {
    "scrolled": true
   },
   "outputs": [],
   "source": [
    "# Paid/Free\n",
    "paid_free_df = df.iloc[:, 38:40]\n",
    "\n",
    "paid_frees = {}\n",
    "for paid_free in paid_free_df.columns:\n",
    "    total = 0\n",
    "    for i in range(len(paid_free_df)):\n",
    "        if paid_free_df[paid_free].iloc[i] == 1:\n",
    "            total += 1\n",
    "    paid_frees[paid_free] = total\n",
    "\n",
    "top_3_paid_free = Counter(paid_frees).most_common(3)\n",
    "\n",
    "# Content Rating\n",
    "content_rating_df = df.iloc[:, 40:46]\n",
    "content_ratings = {}\n",
    "for content_rating in content_rating_df.columns:\n",
    "    total = 0\n",
    "    for i in range(len(content_rating_df)):\n",
    "        if content_rating_df[content_rating].iloc[i] == 1:\n",
    "            total += 1\n",
    "    content_ratings[content_rating] = total\n",
    "\n",
    "top_3_content_rating = Counter(content_ratings).most_common(3)\n",
    "\n",
    "# Android Version\n",
    "cols = list(range(46))\n",
    "android_ver_df = df.drop(df.columns[cols], axis=1)\n",
    "\n",
    "android_vers = {}\n",
    "for android_ver in android_ver_df.columns:\n",
    "    total = 0\n",
    "    for i in range(len(android_ver_df)):\n",
    "        if android_ver_df[android_ver].iloc[i] == 1:\n",
    "            total += 1\n",
    "    android_vers[android_ver] = total\n",
    "    \n",
    "top_3_android_ver = Counter(android_vers).most_common(3)"
   ]
  },
  {
   "cell_type": "code",
   "execution_count": 186,
   "metadata": {},
   "outputs": [],
   "source": [
    "paid_free_df['Rating'] = df['Rating']\n",
    "content_rating_df['Rating'] = df['Rating']\n",
    "android_ver_df['Rating'] = df['Rating']\n",
    "\n",
    "for paid_free_tuple in top_3_paid_free:\n",
    "    paid_free = paid_free_tuple[0]\n",
    "    fig = px.box(paid_free_df, x = paid_free, y = \"Rating\")\n",
    "    fig.update_layout (\n",
    "        title = {'text': paid_free[3:] + ' vs. Rating', 'yanchor': 'top'})\n",
    "    \n",
    "for content_rating_tuple in top_3_content_rating:\n",
    "    content_rating = content_rating_tuple[0]\n",
    "    fig = px.box(content_rating_df, x = content_rating, y = \"Rating\")\n",
    "    fig.update_layout (\n",
    "        title = {'text': content_rating[3:] + ' vs. Rating', 'yanchor': 'top'})\n",
    "    \n",
    "for android_ver_tuple in top_3_android_ver:\n",
    "    android_ver = android_ver_tuple[0]\n",
    "    fig = px.box(android_ver_df, x = android_ver, y = \"Rating\")\n",
    "    fig.update_layout (\n",
    "        title = {'text': android_ver[3:] + ' vs. Rating', 'yanchor': 'top'})"
   ]
  },
  {
   "cell_type": "markdown",
   "metadata": {},
   "source": [
    "<table>\n",
    "    <tr>\n",
    "        <td>\n",
    "            <img src=\"https://raw.githubusercontent.com/yoonpatrick3/ds3000-fp/main/img/freebox.png?raw=true\" alt=\"img/freebox.png\" width=600>\n",
    "        </td>\n",
    "        <td>\n",
    "            <img src=\"https://raw.githubusercontent.com/yoonpatrick3/ds3000-fp/main/img/paidbox.png?raw=true\" alt=\"img/paidbox.png\" width=600>\n",
    "        </td>\n",
    "    </tr>\n",
    "    <tr>\n",
    "        <td>\n",
    "            <img src=\"https://raw.githubusercontent.com/yoonpatrick3/ds3000-fp/main/img/everyonebox.png?raw=true\" alt=\"img/everyonebox.png\" width=600>\n",
    "        </td>\n",
    "        <td>\n",
    "            <img src=\"https://raw.githubusercontent.com/yoonpatrick3/ds3000-fp/main/img/teenbox.png?raw=true\" alt=\"img/teenbox.png\" width=600>\n",
    "        </td>\n",
    "    </tr>\n",
    "    <tr>\n",
    "        <td>\n",
    "            <img src=\"https://raw.githubusercontent.com/yoonpatrick3/ds3000-fp/main/img/maturebox.png?raw=true\" alt=\"img/maturebox.png\" width=600>\n",
    "        </td>\n",
    "        <td>\n",
    "            <img src=\"https://raw.githubusercontent.com/yoonpatrick3/ds3000-fp/main/img/4.1box.png?raw=true\" alt=\"img/4.1box.png\" width=600>\n",
    "        </td>\n",
    "    </tr>\n",
    "    <tr>\n",
    "        <td>\n",
    "            <img src=\"https://raw.githubusercontent.com/yoonpatrick3/ds3000-fp/main/img/variesbox.png?raw=true\" alt=\"img/variesbox.png\" width=600>\n",
    "        </td>\n",
    "        <td>\n",
    "            <img src=\"https://raw.githubusercontent.com/yoonpatrick3/ds3000-fp/main/img/4.0.3box.png?raw=true\" alt=\"img/4.0.3box.png\" width=600>\n",
    "        </td>\n",
    "    </tr>\n",
    "</table>"
   ]
  },
  {
   "cell_type": "markdown",
   "metadata": {},
   "source": [
    "As we can see again, none of the features by themselves have a significance difference on the rating."
   ]
  },
  {
   "cell_type": "markdown",
   "metadata": {},
   "source": [
    "### 3.3. Model Construction"
   ]
  },
  {
   "cell_type": "markdown",
   "metadata": {},
   "source": [
    "#### Hypothesis Test\n",
    "\n",
    "We will be conducting two separate hypothesis test on the relationship between Installs and Rating and Reviews and Rating. We decided to conduct a One-Way ANOVA test. In order to conduct this test, we need to make the ratings discrete. Here below, we prepare our dataframe for the hypothesis tests."
   ]
  },
  {
   "cell_type": "code",
   "execution_count": 187,
   "metadata": {},
   "outputs": [
    {
     "data": {
      "text/html": [
       "<div>\n",
       "<style scoped>\n",
       "    .dataframe tbody tr th:only-of-type {\n",
       "        vertical-align: middle;\n",
       "    }\n",
       "\n",
       "    .dataframe tbody tr th {\n",
       "        vertical-align: top;\n",
       "    }\n",
       "\n",
       "    .dataframe thead th {\n",
       "        text-align: right;\n",
       "    }\n",
       "</style>\n",
       "<table border=\"1\" class=\"dataframe\">\n",
       "  <thead>\n",
       "    <tr style=\"text-align: right;\">\n",
       "      <th></th>\n",
       "      <th>App</th>\n",
       "      <th>Installs</th>\n",
       "      <th>Rating</th>\n",
       "    </tr>\n",
       "  </thead>\n",
       "  <tbody>\n",
       "    <tr>\n",
       "      <td>0</td>\n",
       "      <td>Photo Editor &amp; Candy Camera &amp; Grid &amp; ScrapBook</td>\n",
       "      <td>10000</td>\n",
       "      <td>4</td>\n",
       "    </tr>\n",
       "    <tr>\n",
       "      <td>1</td>\n",
       "      <td>Coloring book moana</td>\n",
       "      <td>500000</td>\n",
       "      <td>3</td>\n",
       "    </tr>\n",
       "    <tr>\n",
       "      <td>2</td>\n",
       "      <td>U Launcher Lite – FREE Live Cool Themes, Hide ...</td>\n",
       "      <td>5000000</td>\n",
       "      <td>4</td>\n",
       "    </tr>\n",
       "    <tr>\n",
       "      <td>3</td>\n",
       "      <td>Sketch - Draw &amp; Paint</td>\n",
       "      <td>50000000</td>\n",
       "      <td>4</td>\n",
       "    </tr>\n",
       "    <tr>\n",
       "      <td>4</td>\n",
       "      <td>Pixel Draw - Number Art Coloring Book</td>\n",
       "      <td>100000</td>\n",
       "      <td>4</td>\n",
       "    </tr>\n",
       "    <tr>\n",
       "      <td>...</td>\n",
       "      <td>...</td>\n",
       "      <td>...</td>\n",
       "      <td>...</td>\n",
       "    </tr>\n",
       "    <tr>\n",
       "      <td>9355</td>\n",
       "      <td>FR Calculator</td>\n",
       "      <td>500</td>\n",
       "      <td>4</td>\n",
       "    </tr>\n",
       "    <tr>\n",
       "      <td>9356</td>\n",
       "      <td>Sya9a Maroc - FR</td>\n",
       "      <td>5000</td>\n",
       "      <td>4</td>\n",
       "    </tr>\n",
       "    <tr>\n",
       "      <td>9357</td>\n",
       "      <td>Fr. Mike Schmitz Audio Teachings</td>\n",
       "      <td>100</td>\n",
       "      <td>5</td>\n",
       "    </tr>\n",
       "    <tr>\n",
       "      <td>9358</td>\n",
       "      <td>The SCP Foundation DB fr nn5n</td>\n",
       "      <td>1000</td>\n",
       "      <td>4</td>\n",
       "    </tr>\n",
       "    <tr>\n",
       "      <td>9359</td>\n",
       "      <td>iHoroscope - 2018 Daily Horoscope &amp; Astrology</td>\n",
       "      <td>10000000</td>\n",
       "      <td>4</td>\n",
       "    </tr>\n",
       "  </tbody>\n",
       "</table>\n",
       "<p>9360 rows × 3 columns</p>\n",
       "</div>"
      ],
      "text/plain": [
       "                                                    App  Installs  Rating\n",
       "0        Photo Editor & Candy Camera & Grid & ScrapBook     10000       4\n",
       "1                                   Coloring book moana    500000       3\n",
       "2     U Launcher Lite – FREE Live Cool Themes, Hide ...   5000000       4\n",
       "3                                 Sketch - Draw & Paint  50000000       4\n",
       "4                 Pixel Draw - Number Art Coloring Book    100000       4\n",
       "...                                                 ...       ...     ...\n",
       "9355                                      FR Calculator       500       4\n",
       "9356                                   Sya9a Maroc - FR      5000       4\n",
       "9357                   Fr. Mike Schmitz Audio Teachings       100       5\n",
       "9358                      The SCP Foundation DB fr nn5n      1000       4\n",
       "9359      iHoroscope - 2018 Daily Horoscope & Astrology  10000000       4\n",
       "\n",
       "[9360 rows x 3 columns]"
      ]
     },
     "execution_count": 187,
     "metadata": {},
     "output_type": "execute_result"
    }
   ],
   "source": [
    "install_df = pd.DataFrame(columns = [\"App\", \"Installs\", \"Rating\"])\n",
    "install_df[\"App\"] = df[\"App\"]\n",
    "install_df[\"Installs\"] = df[\"Installs\"]\n",
    "install_df[\"Rating\"] = df[\"Rating\"].apply(lambda x: int(x))\n",
    "\n",
    "install_df"
   ]
  },
  {
   "cell_type": "code",
   "execution_count": 188,
   "metadata": {},
   "outputs": [
    {
     "data": {
      "text/html": [
       "<div>\n",
       "<style scoped>\n",
       "    .dataframe tbody tr th:only-of-type {\n",
       "        vertical-align: middle;\n",
       "    }\n",
       "\n",
       "    .dataframe tbody tr th {\n",
       "        vertical-align: top;\n",
       "    }\n",
       "\n",
       "    .dataframe thead th {\n",
       "        text-align: right;\n",
       "    }\n",
       "</style>\n",
       "<table border=\"1\" class=\"dataframe\">\n",
       "  <thead>\n",
       "    <tr style=\"text-align: right;\">\n",
       "      <th></th>\n",
       "      <th>App</th>\n",
       "      <th>Reviews</th>\n",
       "      <th>Rating</th>\n",
       "    </tr>\n",
       "  </thead>\n",
       "  <tbody>\n",
       "    <tr>\n",
       "      <td>0</td>\n",
       "      <td>Photo Editor &amp; Candy Camera &amp; Grid &amp; ScrapBook</td>\n",
       "      <td>159</td>\n",
       "      <td>4</td>\n",
       "    </tr>\n",
       "    <tr>\n",
       "      <td>1</td>\n",
       "      <td>Coloring book moana</td>\n",
       "      <td>967</td>\n",
       "      <td>3</td>\n",
       "    </tr>\n",
       "    <tr>\n",
       "      <td>2</td>\n",
       "      <td>U Launcher Lite – FREE Live Cool Themes, Hide ...</td>\n",
       "      <td>87510</td>\n",
       "      <td>4</td>\n",
       "    </tr>\n",
       "    <tr>\n",
       "      <td>3</td>\n",
       "      <td>Sketch - Draw &amp; Paint</td>\n",
       "      <td>215644</td>\n",
       "      <td>4</td>\n",
       "    </tr>\n",
       "    <tr>\n",
       "      <td>4</td>\n",
       "      <td>Pixel Draw - Number Art Coloring Book</td>\n",
       "      <td>967</td>\n",
       "      <td>4</td>\n",
       "    </tr>\n",
       "    <tr>\n",
       "      <td>...</td>\n",
       "      <td>...</td>\n",
       "      <td>...</td>\n",
       "      <td>...</td>\n",
       "    </tr>\n",
       "    <tr>\n",
       "      <td>9355</td>\n",
       "      <td>FR Calculator</td>\n",
       "      <td>7</td>\n",
       "      <td>4</td>\n",
       "    </tr>\n",
       "    <tr>\n",
       "      <td>9356</td>\n",
       "      <td>Sya9a Maroc - FR</td>\n",
       "      <td>38</td>\n",
       "      <td>4</td>\n",
       "    </tr>\n",
       "    <tr>\n",
       "      <td>9357</td>\n",
       "      <td>Fr. Mike Schmitz Audio Teachings</td>\n",
       "      <td>4</td>\n",
       "      <td>5</td>\n",
       "    </tr>\n",
       "    <tr>\n",
       "      <td>9358</td>\n",
       "      <td>The SCP Foundation DB fr nn5n</td>\n",
       "      <td>114</td>\n",
       "      <td>4</td>\n",
       "    </tr>\n",
       "    <tr>\n",
       "      <td>9359</td>\n",
       "      <td>iHoroscope - 2018 Daily Horoscope &amp; Astrology</td>\n",
       "      <td>398307</td>\n",
       "      <td>4</td>\n",
       "    </tr>\n",
       "  </tbody>\n",
       "</table>\n",
       "<p>9360 rows × 3 columns</p>\n",
       "</div>"
      ],
      "text/plain": [
       "                                                    App  Reviews  Rating\n",
       "0        Photo Editor & Candy Camera & Grid & ScrapBook      159       4\n",
       "1                                   Coloring book moana      967       3\n",
       "2     U Launcher Lite – FREE Live Cool Themes, Hide ...    87510       4\n",
       "3                                 Sketch - Draw & Paint   215644       4\n",
       "4                 Pixel Draw - Number Art Coloring Book      967       4\n",
       "...                                                 ...      ...     ...\n",
       "9355                                      FR Calculator        7       4\n",
       "9356                                   Sya9a Maroc - FR       38       4\n",
       "9357                   Fr. Mike Schmitz Audio Teachings        4       5\n",
       "9358                      The SCP Foundation DB fr nn5n      114       4\n",
       "9359      iHoroscope - 2018 Daily Horoscope & Astrology   398307       4\n",
       "\n",
       "[9360 rows x 3 columns]"
      ]
     },
     "execution_count": 188,
     "metadata": {},
     "output_type": "execute_result"
    }
   ],
   "source": [
    "review_df = pd.DataFrame(columns = [\"App\", \"Reviews\", \"Rating\"])\n",
    "review_df[\"App\"] = df[\"App\"]\n",
    "review_df[\"Reviews\"] = df[\"Reviews\"].astype('int64')\n",
    "review_df[\"Rating\"] = df[\"Rating\"].apply(lambda x: int(x))\n",
    "\n",
    "review_df"
   ]
  },
  {
   "cell_type": "markdown",
   "metadata": {},
   "source": [
    "Now we can create a dataset with the descriptive statistics for each of the ratings."
   ]
  },
  {
   "cell_type": "code",
   "execution_count": 189,
   "metadata": {},
   "outputs": [
    {
     "data": {
      "text/html": [
       "<div>\n",
       "<style scoped>\n",
       "    .dataframe tbody tr th:only-of-type {\n",
       "        vertical-align: middle;\n",
       "    }\n",
       "\n",
       "    .dataframe tbody tr th {\n",
       "        vertical-align: top;\n",
       "    }\n",
       "\n",
       "    .dataframe thead th {\n",
       "        text-align: right;\n",
       "    }\n",
       "</style>\n",
       "<table border=\"1\" class=\"dataframe\">\n",
       "  <thead>\n",
       "    <tr style=\"text-align: right;\">\n",
       "      <th></th>\n",
       "      <th>count</th>\n",
       "      <th>mean</th>\n",
       "      <th>std</th>\n",
       "      <th>sem</th>\n",
       "    </tr>\n",
       "    <tr>\n",
       "      <th>Rating</th>\n",
       "      <th></th>\n",
       "      <th></th>\n",
       "      <th></th>\n",
       "      <th></th>\n",
       "    </tr>\n",
       "  </thead>\n",
       "  <tbody>\n",
       "    <tr>\n",
       "      <td>1</td>\n",
       "      <td>56</td>\n",
       "      <td>2.065134e+04</td>\n",
       "      <td>7.062855e+04</td>\n",
       "      <td>9.438137e+03</td>\n",
       "    </tr>\n",
       "    <tr>\n",
       "      <td>2</td>\n",
       "      <td>231</td>\n",
       "      <td>1.150723e+05</td>\n",
       "      <td>4.968414e+05</td>\n",
       "      <td>3.268976e+04</td>\n",
       "    </tr>\n",
       "    <tr>\n",
       "      <td>3</td>\n",
       "      <td>1710</td>\n",
       "      <td>5.458339e+06</td>\n",
       "      <td>5.959994e+07</td>\n",
       "      <td>1.441278e+06</td>\n",
       "    </tr>\n",
       "    <tr>\n",
       "      <td>4</td>\n",
       "      <td>7089</td>\n",
       "      <td>2.232534e+07</td>\n",
       "      <td>1.002981e+08</td>\n",
       "      <td>1.191243e+06</td>\n",
       "    </tr>\n",
       "    <tr>\n",
       "      <td>5</td>\n",
       "      <td>274</td>\n",
       "      <td>3.285511e+02</td>\n",
       "      <td>8.373118e+02</td>\n",
       "      <td>5.058385e+01</td>\n",
       "    </tr>\n",
       "  </tbody>\n",
       "</table>\n",
       "</div>"
      ],
      "text/plain": [
       "        count          mean           std           sem\n",
       "Rating                                                 \n",
       "1          56  2.065134e+04  7.062855e+04  9.438137e+03\n",
       "2         231  1.150723e+05  4.968414e+05  3.268976e+04\n",
       "3        1710  5.458339e+06  5.959994e+07  1.441278e+06\n",
       "4        7089  2.232534e+07  1.002981e+08  1.191243e+06\n",
       "5         274  3.285511e+02  8.373118e+02  5.058385e+01"
      ]
     },
     "execution_count": 189,
     "metadata": {},
     "output_type": "execute_result"
    }
   ],
   "source": [
    "descriptives_installs = install_df.groupby(\"Rating\").agg([\"count\", \"mean\", \"std\", \"sem\"])\n",
    "descriptives_installs = descriptives_installs[\"Installs\"]\n",
    "\n",
    "descriptives_installs"
   ]
  },
  {
   "cell_type": "code",
   "execution_count": 190,
   "metadata": {},
   "outputs": [
    {
     "data": {
      "text/html": [
       "<div>\n",
       "<style scoped>\n",
       "    .dataframe tbody tr th:only-of-type {\n",
       "        vertical-align: middle;\n",
       "    }\n",
       "\n",
       "    .dataframe tbody tr th {\n",
       "        vertical-align: top;\n",
       "    }\n",
       "\n",
       "    .dataframe thead th {\n",
       "        text-align: right;\n",
       "    }\n",
       "</style>\n",
       "<table border=\"1\" class=\"dataframe\">\n",
       "  <thead>\n",
       "    <tr style=\"text-align: right;\">\n",
       "      <th></th>\n",
       "      <th>count</th>\n",
       "      <th>mean</th>\n",
       "      <th>std</th>\n",
       "      <th>sem</th>\n",
       "    </tr>\n",
       "    <tr>\n",
       "      <th>Rating</th>\n",
       "      <th></th>\n",
       "      <th></th>\n",
       "      <th></th>\n",
       "      <th></th>\n",
       "    </tr>\n",
       "  </thead>\n",
       "  <tbody>\n",
       "    <tr>\n",
       "      <td>1</td>\n",
       "      <td>56</td>\n",
       "      <td>187.160714</td>\n",
       "      <td>5.012819e+02</td>\n",
       "      <td>66.986608</td>\n",
       "    </tr>\n",
       "    <tr>\n",
       "      <td>2</td>\n",
       "      <td>231</td>\n",
       "      <td>1126.471861</td>\n",
       "      <td>7.440650e+03</td>\n",
       "      <td>489.558855</td>\n",
       "    </tr>\n",
       "    <tr>\n",
       "      <td>3</td>\n",
       "      <td>1710</td>\n",
       "      <td>24796.440936</td>\n",
       "      <td>1.685116e+05</td>\n",
       "      <td>4075.037975</td>\n",
       "    </tr>\n",
       "    <tr>\n",
       "      <td>4</td>\n",
       "      <td>7089</td>\n",
       "      <td>673140.211031</td>\n",
       "      <td>3.598545e+06</td>\n",
       "      <td>42739.990109</td>\n",
       "    </tr>\n",
       "    <tr>\n",
       "      <td>5</td>\n",
       "      <td>274</td>\n",
       "      <td>8.740876</td>\n",
       "      <td>1.617494e+01</td>\n",
       "      <td>0.977164</td>\n",
       "    </tr>\n",
       "  </tbody>\n",
       "</table>\n",
       "</div>"
      ],
      "text/plain": [
       "        count           mean           std           sem\n",
       "Rating                                                  \n",
       "1          56     187.160714  5.012819e+02     66.986608\n",
       "2         231    1126.471861  7.440650e+03    489.558855\n",
       "3        1710   24796.440936  1.685116e+05   4075.037975\n",
       "4        7089  673140.211031  3.598545e+06  42739.990109\n",
       "5         274       8.740876  1.617494e+01      0.977164"
      ]
     },
     "execution_count": 190,
     "metadata": {},
     "output_type": "execute_result"
    }
   ],
   "source": [
    "descriptives_reviews = review_df.groupby(\"Rating\").agg([\"count\", \"mean\", \"std\", \"sem\"])\n",
    "descriptives_reviews = descriptives_reviews[\"Reviews\"]\n",
    "\n",
    "descriptives_reviews"
   ]
  },
  {
   "cell_type": "markdown",
   "metadata": {},
   "source": [
    "Here we can see the various descriptive statistics for each rating. This is for both installs and reviews.\n",
    "\n",
    "Now, we can start visualizing these statistics using a bar graph."
   ]
  },
  {
   "cell_type": "code",
   "execution_count": 191,
   "metadata": {},
   "outputs": [
    {
     "data": {
      "text/html": [
       "<div>\n",
       "<style scoped>\n",
       "    .dataframe tbody tr th:only-of-type {\n",
       "        vertical-align: middle;\n",
       "    }\n",
       "\n",
       "    .dataframe tbody tr th {\n",
       "        vertical-align: top;\n",
       "    }\n",
       "\n",
       "    .dataframe thead th {\n",
       "        text-align: right;\n",
       "    }\n",
       "</style>\n",
       "<table border=\"1\" class=\"dataframe\">\n",
       "  <thead>\n",
       "    <tr style=\"text-align: right;\">\n",
       "      <th></th>\n",
       "      <th>Rating</th>\n",
       "      <th>count</th>\n",
       "      <th>mean</th>\n",
       "      <th>std</th>\n",
       "      <th>sem</th>\n",
       "    </tr>\n",
       "  </thead>\n",
       "  <tbody>\n",
       "    <tr>\n",
       "      <td>0</td>\n",
       "      <td>1</td>\n",
       "      <td>56</td>\n",
       "      <td>2.065134e+04</td>\n",
       "      <td>7.062855e+04</td>\n",
       "      <td>9.438137e+03</td>\n",
       "    </tr>\n",
       "    <tr>\n",
       "      <td>1</td>\n",
       "      <td>2</td>\n",
       "      <td>231</td>\n",
       "      <td>1.150723e+05</td>\n",
       "      <td>4.968414e+05</td>\n",
       "      <td>3.268976e+04</td>\n",
       "    </tr>\n",
       "    <tr>\n",
       "      <td>2</td>\n",
       "      <td>3</td>\n",
       "      <td>1710</td>\n",
       "      <td>5.458339e+06</td>\n",
       "      <td>5.959994e+07</td>\n",
       "      <td>1.441278e+06</td>\n",
       "    </tr>\n",
       "    <tr>\n",
       "      <td>3</td>\n",
       "      <td>4</td>\n",
       "      <td>7089</td>\n",
       "      <td>2.232534e+07</td>\n",
       "      <td>1.002981e+08</td>\n",
       "      <td>1.191243e+06</td>\n",
       "    </tr>\n",
       "    <tr>\n",
       "      <td>4</td>\n",
       "      <td>5</td>\n",
       "      <td>274</td>\n",
       "      <td>3.285511e+02</td>\n",
       "      <td>8.373118e+02</td>\n",
       "      <td>5.058385e+01</td>\n",
       "    </tr>\n",
       "  </tbody>\n",
       "</table>\n",
       "</div>"
      ],
      "text/plain": [
       "   Rating  count          mean           std           sem\n",
       "0       1     56  2.065134e+04  7.062855e+04  9.438137e+03\n",
       "1       2    231  1.150723e+05  4.968414e+05  3.268976e+04\n",
       "2       3   1710  5.458339e+06  5.959994e+07  1.441278e+06\n",
       "3       4   7089  2.232534e+07  1.002981e+08  1.191243e+06\n",
       "4       5    274  3.285511e+02  8.373118e+02  5.058385e+01"
      ]
     },
     "execution_count": 191,
     "metadata": {},
     "output_type": "execute_result"
    }
   ],
   "source": [
    "descriptives_installs.reset_index(inplace=True)\n",
    "descriptives_reviews.reset_index(inplace=True)\n",
    "\n",
    "descriptives_installs"
   ]
  },
  {
   "cell_type": "code",
   "execution_count": 192,
   "metadata": {},
   "outputs": [
    {
     "data": {
      "application/vnd.plotly.v1+json": {
       "config": {
        "plotlyServerURL": "https://plot.ly"
       },
       "data": [
        {
         "alignmentgroup": "True",
         "error_y": {
          "array": [
           66.98660835727917,
           489.55885498401875,
           4075.0379750047546,
           42739.990109456,
           0.9771636659785135
          ]
         },
         "hovertemplate": "Rating=%{x}<br>Number of Reviews=%{y}<extra></extra>",
         "legendgroup": "",
         "marker": {
          "color": "#1F77B4"
         },
         "name": "",
         "offsetgroup": "",
         "orientation": "v",
         "showlegend": false,
         "textposition": "auto",
         "type": "bar",
         "x": [
          1,
          2,
          3,
          4,
          5
         ],
         "xaxis": "x",
         "y": [
          187.16071428571428,
          1126.4718614718615,
          24796.440935672515,
          673140.2110311751,
          8.74087591240876
         ],
         "yaxis": "y"
        }
       ],
       "layout": {
        "barmode": "relative",
        "legend": {
         "tracegroupgap": 0
        },
        "margin": {
         "t": 60
        },
        "template": {
         "data": {
          "scatter": [
           {
            "type": "scatter"
           }
          ]
         }
        },
        "title": {
         "text": "Number of Reviews per Rating"
        },
        "width": 500,
        "xaxis": {
         "anchor": "y",
         "domain": [
          0,
          1
         ],
         "tickfont": {
          "color": "gray",
          "size": 14
         },
         "title": {
          "font": {
           "size": 16
          },
          "text": "Rating"
         }
        },
        "yaxis": {
         "anchor": "x",
         "domain": [
          0,
          1
         ],
         "tickfont": {
          "color": "gray",
          "size": 14
         },
         "title": {
          "font": {
           "size": 16
          },
          "text": "Number of Reviews"
         }
        }
       }
      },
      "text/html": [
       "<div>\n",
       "        \n",
       "        \n",
       "            <div id=\"2a803d46-ba78-43d0-81d0-b78407946fde\" class=\"plotly-graph-div\" style=\"height:525px; width:500px;\"></div>\n",
       "            <script type=\"text/javascript\">\n",
       "                require([\"plotly\"], function(Plotly) {\n",
       "                    window.PLOTLYENV=window.PLOTLYENV || {};\n",
       "                    \n",
       "                if (document.getElementById(\"2a803d46-ba78-43d0-81d0-b78407946fde\")) {\n",
       "                    Plotly.newPlot(\n",
       "                        '2a803d46-ba78-43d0-81d0-b78407946fde',\n",
       "                        [{\"alignmentgroup\": \"True\", \"error_y\": {\"array\": [66.98660835727917, 489.55885498401875, 4075.0379750047546, 42739.990109456, 0.9771636659785135]}, \"hovertemplate\": \"Rating=%{x}<br>Number of Reviews=%{y}<extra></extra>\", \"legendgroup\": \"\", \"marker\": {\"color\": \"#1F77B4\"}, \"name\": \"\", \"offsetgroup\": \"\", \"orientation\": \"v\", \"showlegend\": false, \"textposition\": \"auto\", \"type\": \"bar\", \"x\": [1, 2, 3, 4, 5], \"xaxis\": \"x\", \"y\": [187.16071428571428, 1126.4718614718615, 24796.440935672515, 673140.2110311751, 8.74087591240876], \"yaxis\": \"y\"}],\n",
       "                        {\"barmode\": \"relative\", \"legend\": {\"tracegroupgap\": 0}, \"margin\": {\"t\": 60}, \"template\": {\"data\": {\"scatter\": [{\"type\": \"scatter\"}]}}, \"title\": {\"text\": \"Number of Reviews per Rating\"}, \"width\": 500, \"xaxis\": {\"anchor\": \"y\", \"domain\": [0.0, 1.0], \"tickfont\": {\"color\": \"gray\", \"size\": 14}, \"title\": {\"font\": {\"size\": 16}, \"text\": \"Rating\"}}, \"yaxis\": {\"anchor\": \"x\", \"domain\": [0.0, 1.0], \"tickfont\": {\"color\": \"gray\", \"size\": 14}, \"title\": {\"font\": {\"size\": 16}, \"text\": \"Number of Reviews\"}}},\n",
       "                        {\"responsive\": true}\n",
       "                    ).then(function(){\n",
       "                            \n",
       "var gd = document.getElementById('2a803d46-ba78-43d0-81d0-b78407946fde');\n",
       "var x = new MutationObserver(function (mutations, observer) {{\n",
       "        var display = window.getComputedStyle(gd).display;\n",
       "        if (!display || display === 'none') {{\n",
       "            console.log([gd, 'removed!']);\n",
       "            Plotly.purge(gd);\n",
       "            observer.disconnect();\n",
       "        }}\n",
       "}});\n",
       "\n",
       "// Listen for the removal of the full notebook cells\n",
       "var notebookContainer = gd.closest('#notebook-container');\n",
       "if (notebookContainer) {{\n",
       "    x.observe(notebookContainer, {childList: true});\n",
       "}}\n",
       "\n",
       "// Listen for the clearing of the current output cell\n",
       "var outputEl = gd.closest('.output');\n",
       "if (outputEl) {{\n",
       "    x.observe(outputEl, {childList: true});\n",
       "}}\n",
       "\n",
       "                        })\n",
       "                };\n",
       "                });\n",
       "            </script>\n",
       "        </div>"
      ]
     },
     "metadata": {},
     "output_type": "display_data"
    }
   ],
   "source": [
    "graph_installs = px.bar(descriptives_installs, x = \"Rating\", y = \"mean\", error_y = \"sem\", template='none', width=500, labels = {\"mean\": \"Number of Installs\", \"Rating\": \"Rating\"})\n",
    "\n",
    "graph_installs.update_xaxes(title_font={\"size\":16}, tickfont = {\"size\":14, \"color\":\"gray\"})\n",
    "graph_installs.update_yaxes(title_font={\"size\":16}, tickfont = {\"size\":14, \"color\":\"gray\"})\n",
    "graph_installs.update_layout(title = {'text': \"Number of Installs per Rating\"})\n",
    "\n",
    "\n",
    "graph_reviews = px.bar(descriptives_reviews, x = \"Rating\", y = \"mean\", error_y = \"sem\", template='none', width=500, labels = {\"mean\": \"Number of Reviews\", \"Rating\": \"Rating\"})\n",
    "\n",
    "graph_reviews.update_xaxes(title_font={\"size\":16}, tickfont = {\"size\":14, \"color\":\"gray\"})\n",
    "graph_reviews.update_yaxes(title_font={\"size\":16}, tickfont = {\"size\":14, \"color\":\"gray\"})\n",
    "graph_reviews.update_layout(title = {'text': \"Number of Reviews per Rating\"})\n",
    "\n"
   ]
  },
  {
   "cell_type": "markdown",
   "metadata": {},
   "source": [
    "<table>\n",
    "    <tr>\n",
    "        <td>\n",
    "            <img src=\"https://raw.githubusercontent.com/yoonpatrick3/ds3000-fp/main/img/installsbar.png?raw=true\" alt=\"img/installsbar.png\" width=600>\n",
    "        </td>\n",
    "        <td>\n",
    "            <img src=\"https://raw.githubusercontent.com/yoonpatrick3/ds3000-fp/main/img/reviewsbar.png?raw=true\" alt=\"img/reviewsbar.png\" width=600>\n",
    "        </td>\n",
    "    </tr>\n",
    "</table>"
   ]
  },
  {
   "cell_type": "markdown",
   "metadata": {},
   "source": [
    "Now that we have visualized the data, we can start conducting the F-Test to evaluate our data."
   ]
  },
  {
   "cell_type": "code",
   "execution_count": 193,
   "metadata": {},
   "outputs": [
    {
     "name": "stdout",
     "output_type": "stream",
     "text": [
      "F-statistic for Installs 17.60\n",
      "P-value for Installs 0.00\n",
      "\n",
      "F-statistic for Reviews 18.76\n",
      "P-value for Reviews 0.00\n"
     ]
    }
   ],
   "source": [
    "from scipy import stats\n",
    "\n",
    "installs_1 = install_df[install_df[\"Rating\"] == 1][\"Installs\"]\n",
    "installs_2 = install_df[install_df[\"Rating\"] == 2][\"Installs\"]\n",
    "installs_3 = install_df[install_df[\"Rating\"] == 3][\"Installs\"]\n",
    "installs_4 = install_df[install_df[\"Rating\"] == 4][\"Installs\"]\n",
    "installs_5 = install_df[install_df[\"Rating\"] == 5][\"Installs\"]\n",
    "\n",
    "groups_installs = [installs_1, installs_2, installs_3, installs_4, installs_5]\n",
    "\n",
    "reviews_1 = review_df[review_df[\"Rating\"] == 1][\"Reviews\"]\n",
    "reviews_2 = review_df[review_df[\"Rating\"] == 2][\"Reviews\"]\n",
    "reviews_3 = review_df[review_df[\"Rating\"] == 3][\"Reviews\"]\n",
    "reviews_4 = review_df[review_df[\"Rating\"] == 4][\"Reviews\"]\n",
    "reviews_5 = review_df[review_df[\"Rating\"] == 5][\"Reviews\"]\n",
    "\n",
    "groups_reviews = [reviews_1, reviews_2, reviews_3, reviews_4, reviews_5]\n",
    "\n",
    "results_installs = stats.f_oneway(*groups_installs)\n",
    "f_stat_installs = results_installs[0]\n",
    "p_val_installs = results_installs[1]\n",
    "\n",
    "print(\"F-statistic for Installs\", format(f_stat_installs, '.2f'))\n",
    "print(\"P-value for Installs\", format(p_val_installs, '.2f'))\n",
    "\n",
    "results_reviews = stats.f_oneway(*groups_reviews)\n",
    "f_stat_reviews = results_reviews[0]\n",
    "p_val_reviews = results_reviews[1]\n",
    "\n",
    "print(\"\\nF-statistic for Reviews\", format(f_stat_reviews, '.2f'))\n",
    "print(\"P-value for Reviews\", format(p_val_reviews, '.2f'))"
   ]
  },
  {
   "cell_type": "markdown",
   "metadata": {},
   "source": [
    "Now we must calculate the degrees of freedom for both groups in order to use them for later evaluations"
   ]
  },
  {
   "cell_type": "code",
   "execution_count": 194,
   "metadata": {},
   "outputs": [
    {
     "name": "stdout",
     "output_type": "stream",
     "text": [
      "df1 for Installs: 4\n",
      "df2 for Installs: 9355\n",
      "df1 for Reviews: 4\n",
      "df2 for Reviews: 9355\n"
     ]
    }
   ],
   "source": [
    "df1_installs = len(descriptives_installs) - 1\n",
    "df2_installs = 0\n",
    "\n",
    "for group in groups_installs:\n",
    "    df2_installs += (len(group) - 1)\n",
    "\n",
    "print(\"df1 for Installs:\", df1_installs)\n",
    "print(\"df2 for Installs:\", df2_installs)\n",
    "\n",
    "df1_reviews = len(descriptives_reviews) - 1\n",
    "df2_reviews = 0\n",
    "\n",
    "for group in groups_reviews:\n",
    "    df2_reviews += (len(group) - 1)\n",
    "\n",
    "print(\"df1 for Reviews:\", df1_reviews)\n",
    "print(\"df2 for Reviews:\", df2_reviews)"
   ]
  },
  {
   "cell_type": "markdown",
   "metadata": {},
   "source": [
    "Before moving forward, we need to conduct two assumption checks for each test: the check for equality of variances and the check for normality. Here is the check for equality of variances:"
   ]
  },
  {
   "cell_type": "code",
   "execution_count": 195,
   "metadata": {},
   "outputs": [
    {
     "name": "stdout",
     "output_type": "stream",
     "text": [
      "LeveneResult(statistic=17.331581104688066, pvalue=3.5529510578722434e-14)\n",
      "LeveneResult(statistic=18.637480369218586, pvalue=2.8537100534479524e-15)\n"
     ]
    }
   ],
   "source": [
    "levene_results_installs = stats.levene(*groups_installs)\n",
    "print(levene_results_installs)\n",
    "\n",
    "levene_results_reviews = stats.levene(*groups_reviews)\n",
    "print(levene_results_reviews)"
   ]
  },
  {
   "cell_type": "markdown",
   "metadata": {},
   "source": [
    "Since both p-values are less than 0.05, both assumption checks fail. Now we check normality:"
   ]
  },
  {
   "cell_type": "code",
   "execution_count": 196,
   "metadata": {},
   "outputs": [
    {
     "name": "stdout",
     "output_type": "stream",
     "text": [
      "Installs:\n",
      "\tRating 1 (0.30269527435302734, 7.612390129059857e-15) \n",
      "\n",
      "\tRating 2 (0.21413445472717285, 4.503244002519923e-30) \n",
      "\n",
      "\tRating 3 (0.05598461627960205, 0.0) \n",
      "\n",
      "\tRating 4 (0.20740395784378052, 0.0) \n",
      "\n",
      "\tRating 5 (0.330822229385376, 1.9975241331206778e-30) \n",
      "\n",
      "Reviews:\n",
      "\tRating 1 (0.4078948497772217, 1.1124462489424738e-13) \n",
      "\n",
      "\tRating 2 (0.11550748348236084, 1.898537399530024e-31) \n",
      "\n",
      "\tRating 3 (0.10504364967346191, 0.0) \n",
      "\n",
      "\tRating 4 (0.16428852081298828, 0.0) \n",
      "\n",
      "\tRating 5 (0.45398974418640137, 4.207868520476938e-28) \n",
      "\n"
     ]
    },
    {
     "name": "stderr",
     "output_type": "stream",
     "text": [
      "C:\\Users\\Stanley Wu\\Anaconda3\\lib\\site-packages\\scipy\\stats\\morestats.py:1676: UserWarning:\n",
      "\n",
      "p-value may not be accurate for N > 5000.\n",
      "\n"
     ]
    }
   ],
   "source": [
    "print(\"Installs:\")\n",
    "for i in range(len(groups_installs)):\n",
    "    print(\"\\tRating\", i+1, stats.shapiro(groups_installs[i]), \"\\n\")\n",
    "    \n",
    "print(\"Reviews:\")\n",
    "for i in range(len(groups_reviews)):\n",
    "    print(\"\\tRating\", i+1, stats.shapiro(groups_reviews[i]), \"\\n\")"
   ]
  },
  {
   "cell_type": "markdown",
   "metadata": {},
   "source": [
    "Our assumption checks failed for both tests. No p-values were above 0.05. The one-way ANOVA is said to be robust enough to handle the violations of assumption of normality. However, we cannot proceed with the analysis as it did not pass our assumpion of for equality of variances."
   ]
  },
  {
   "cell_type": "markdown",
   "metadata": {},
   "source": [
    "#### Conclusions for Hypothesis Tests\n",
    "**Installs**\n",
    "\n",
    "A one-way analysis of variance (ANOVA) was conducted to examine the effect of an application's rating on its number of installs. We ran our test on applications from a Google Play Store using a dataset, thus these applications and their respective number of installs were randomly chosen.\n",
    "\n",
    "The results were inconclusive. The F-test results were F(4, 9355) = 17.60, p < 0.05. This result may deem the difference as statistically significant. However, the data failed both the assumption check for equality of variance and the assumption check for normality. The assumption check for normality may allow us to continue our test due to the one-way ANOVA being robust enough. However, we decided to not proceed with our test due to the test not passing the assumption check for equality of variance. Therefore, we did not conduct any post-hoc tests on this data. Since the results are inconclusive, they do not indicate anything about our data.\n",
    "\n",
    "**Reviews**\n",
    "\n",
    "A one-way analysis of variance (ANOVA) was conducted to examine the effect of an application's rating on its number of reviews. We ran our test on applications from a Google Play Store using a dataset, thus these applications and their respective number of reviews were randomly chosen.\n",
    "\n",
    "The results were inconclusive. The F-test results were F(4, 9355) = 18.76, p < 0.05. This result may deem the difference as statistically significant. However, the data failed both the assumption check for equality of variance and the assumption check for normality. The assumption check for normality may allow us to continue our test due to the one-way ANOVA being robust enough. However, we decided to not proceed with our test due to the test not passing the assumption check for equality of variance. Therefore, we did not conduct any post-hoc tests on this data. Since the results are inconclusive, they do not indicate anything about our data."
   ]
  },
  {
   "cell_type": "markdown",
   "metadata": {},
   "source": [
    "**Initial Models**"
   ]
  },
  {
   "cell_type": "markdown",
   "metadata": {},
   "source": [
    "We start with regression, using KNeighborsRegressor with default parameters. "
   ]
  },
  {
   "cell_type": "code",
   "execution_count": 197,
   "metadata": {},
   "outputs": [
    {
     "data": {
      "text/plain": [
       "KNeighborsRegressor(algorithm='auto', leaf_size=30, metric='minkowski',\n",
       "                    metric_params=None, n_jobs=None, n_neighbors=5, p=2,\n",
       "                    weights='uniform')"
      ]
     },
     "execution_count": 197,
     "metadata": {},
     "output_type": "execute_result"
    }
   ],
   "source": [
    "from sklearn.neighbors import KNeighborsRegressor\n",
    "knnr = KNeighborsRegressor()\n",
    "knnr.fit(X=X_train_selected_regr, y=y_train_regr)"
   ]
  },
  {
   "cell_type": "markdown",
   "metadata": {},
   "source": [
    "Again on regression, we use DecisionTreeRegressor with default parameters."
   ]
  },
  {
   "cell_type": "code",
   "execution_count": 198,
   "metadata": {},
   "outputs": [
    {
     "data": {
      "text/plain": [
       "DecisionTreeRegressor(criterion='mse', max_depth=None, max_features=None,\n",
       "                      max_leaf_nodes=None, min_impurity_decrease=0.0,\n",
       "                      min_impurity_split=None, min_samples_leaf=1,\n",
       "                      min_samples_split=2, min_weight_fraction_leaf=0.0,\n",
       "                      presort=False, random_state=None, splitter='best')"
      ]
     },
     "execution_count": 198,
     "metadata": {},
     "output_type": "execute_result"
    }
   ],
   "source": [
    "dtr = DecisionTreeRegressor()\n",
    "dtr.fit(X=X_train_selected_regr, y=y_train_regr)"
   ]
  },
  {
   "cell_type": "markdown",
   "metadata": {},
   "source": [
    "Finally for regression, we use LinearSVR with default parameters. "
   ]
  },
  {
   "cell_type": "code",
   "execution_count": 199,
   "metadata": {},
   "outputs": [
    {
     "data": {
      "text/plain": [
       "LinearSVR(C=1.0, dual=True, epsilon=0.0, fit_intercept=True,\n",
       "          intercept_scaling=1.0, loss='epsilon_insensitive', max_iter=10000,\n",
       "          random_state=None, tol=0.0001, verbose=0)"
      ]
     },
     "execution_count": 199,
     "metadata": {},
     "output_type": "execute_result"
    }
   ],
   "source": [
    "from sklearn.svm import LinearSVR\n",
    "lsvr = LinearSVR(max_iter=10000)\n",
    "lsvr.fit(X=X_train_selected_regr, y=y_train_regr)"
   ]
  },
  {
   "cell_type": "markdown",
   "metadata": {},
   "source": [
    "Now we move onto classification, first up is KNeighborsClassifier, with default parameters."
   ]
  },
  {
   "cell_type": "code",
   "execution_count": 200,
   "metadata": {},
   "outputs": [
    {
     "data": {
      "text/plain": [
       "KNeighborsClassifier(algorithm='auto', leaf_size=30, metric='minkowski',\n",
       "                     metric_params=None, n_jobs=None, n_neighbors=5, p=2,\n",
       "                     weights='uniform')"
      ]
     },
     "execution_count": 200,
     "metadata": {},
     "output_type": "execute_result"
    }
   ],
   "source": [
    "from sklearn.neighbors import KNeighborsClassifier\n",
    "knnc = KNeighborsClassifier()\n",
    "knnc.fit(X=X_train_selected_class, y=y_train_class)"
   ]
  },
  {
   "cell_type": "markdown",
   "metadata": {},
   "source": [
    "We move onto Decision Tree Classifier with default parameters, with default parameters."
   ]
  },
  {
   "cell_type": "code",
   "execution_count": 201,
   "metadata": {},
   "outputs": [
    {
     "data": {
      "text/plain": [
       "DecisionTreeClassifier(class_weight=None, criterion='gini', max_depth=None,\n",
       "                       max_features=None, max_leaf_nodes=None,\n",
       "                       min_impurity_decrease=0.0, min_impurity_split=None,\n",
       "                       min_samples_leaf=1, min_samples_split=2,\n",
       "                       min_weight_fraction_leaf=0.0, presort=False,\n",
       "                       random_state=None, splitter='best')"
      ]
     },
     "execution_count": 201,
     "metadata": {},
     "output_type": "execute_result"
    }
   ],
   "source": [
    "dtc = DecisionTreeClassifier()\n",
    "dtc.fit(X=X_train_selected_class, y=y_train_class)"
   ]
  },
  {
   "cell_type": "markdown",
   "metadata": {},
   "source": [
    "The final classifier we look at is LinearSVC. We try this with default parameters, with default parameters."
   ]
  },
  {
   "cell_type": "code",
   "execution_count": 202,
   "metadata": {},
   "outputs": [
    {
     "data": {
      "text/plain": [
       "LinearSVC(C=1.0, class_weight=None, dual=True, fit_intercept=True,\n",
       "          intercept_scaling=1, loss='squared_hinge', max_iter=1000,\n",
       "          multi_class='ovr', penalty='l2', random_state=None, tol=0.0001,\n",
       "          verbose=0)"
      ]
     },
     "execution_count": 202,
     "metadata": {},
     "output_type": "execute_result"
    }
   ],
   "source": [
    "from sklearn.svm import LinearSVC\n",
    "lsvc = LinearSVC()\n",
    "lsvc.fit(X=X_train_selected_class, y=y_train_class)"
   ]
  },
  {
   "cell_type": "markdown",
   "metadata": {},
   "source": [
    "### 3.4. Model Evaluation"
   ]
  },
  {
   "cell_type": "markdown",
   "metadata": {},
   "source": [
    "**Hypothesis Tests**"
   ]
  },
  {
   "cell_type": "markdown",
   "metadata": {},
   "source": [
    "As for our hypothesis tests, results were inconclusive. Since the F-stats in both hypothesis test were very large, both p values were less than 0.05. While this may indicate a significant difference, the data was not able to pass the assumption check for equality of variance and the assumption check for normality. Since a one-way ANOVA test is robust enough, we may be able to ignore the fail in the assumption check for normality. However, we cannot bypass the fail in the assumption check for equality of variance. This fail is likely due to our dataset having a significant difference in number of applications per rating, resulting in different variances for each rating category. Therefore, results did not indicate whether there was a positive relationship between the number of installs and rating nor a negative relationship between the number of reviews and rating."
   ]
  },
  {
   "cell_type": "markdown",
   "metadata": {},
   "source": [
    "**Model Evaluation on Training and Validation**"
   ]
  },
  {
   "cell_type": "markdown",
   "metadata": {},
   "source": [
    "First, we construct some functions that we will use to evaluate our model. We use r2 score and mean squared error for regression, and prediction accuracy for classicitaion. Since we are doing regression, MSE makes sense since it just returns the summation of squared differences between predicetd and expected. The higher this value, the worse the model is. Another metric used for regression is r2, which measures how close our predictions are to the actual data. In this metric, we want a value closer to 1 for a good regressor."
   ]
  },
  {
   "cell_type": "code",
   "execution_count": 203,
   "metadata": {},
   "outputs": [],
   "source": [
    "from sklearn.metrics import mean_squared_error\n",
    "from sklearn.metrics import r2_score\n",
    "\n",
    "def report_regression_scores(model, X, y, set_type):\n",
    "    predicted = model.predict(X)\n",
    "    print(set_type + ' set MSE with best parameters: ', mean_squared_error(predicted, y)) \n",
    "    print(set_type + ' set r2 with best parameters: ', r2_score(predicted, y) )\n",
    "    \n",
    "def report_classificationn_scores(model, X, y, set_type):\n",
    "    print(set_type + ' set accuracy score with best parameters: ', model.score(X, y)) "
   ]
  },
  {
   "cell_type": "markdown",
   "metadata": {},
   "source": [
    "For KNeighborsRegressor, our r2 value is very low for training and validation, indicating a poor regressor. However the MSE is quite low, likely a biproduct of the scaled featuers that we employed in data preprocessing. However since r2 score is very low, we can't conclude that this was a good model."
   ]
  },
  {
   "cell_type": "code",
   "execution_count": 204,
   "metadata": {},
   "outputs": [
    {
     "name": "stdout",
     "output_type": "stream",
     "text": [
      "KNeighborsRegressor :\n",
      "Training set MSE with best parameters:  0.01131667111823362\n",
      "Training set r2 with best parameters:  -0.9675168529904441\n",
      "Validation set MSE with best parameters:  0.01817124732905983\n",
      "Validation set r2 with best parameters:  -2.4697445644924643\n"
     ]
    }
   ],
   "source": [
    "print('KNeighborsRegressor :')\n",
    "report_regression_scores(knnr, X_train_selected_regr, y_train_regr, 'Training')\n",
    "report_regression_scores(knnr, X_val_selected_regr, y_val_regr, 'Validation')"
   ]
  },
  {
   "cell_type": "markdown",
   "metadata": {},
   "source": [
    "For DecisionTreeRegressor, again, our r2 value is very low for training and validation, indicating a poor regressor. However the MSE is quite low, likely a biproduct of the scaled featuers that we employed in data preprocessing. However since r2 score is very low, we can't conclude that this was a good model either."
   ]
  },
  {
   "cell_type": "code",
   "execution_count": 205,
   "metadata": {},
   "outputs": [
    {
     "name": "stdout",
     "output_type": "stream",
     "text": [
      "DecisionTreeRegressor:\n",
      "Training set MSE with best parameters:  0.001588869765903019\n",
      "Training set r2 with best parameters:  0.8957036629527886\n",
      "Validation set MSE with best parameters:  0.025187372360807904\n",
      "Validation set r2 with best parameters:  -0.5503945596256945\n"
     ]
    }
   ],
   "source": [
    "print('DecisionTreeRegressor:')\n",
    "report_regression_scores(dtr, X_train_selected_regr, y_train_regr, 'Training')\n",
    "report_regression_scores(dtr, X_val_selected_regr, y_val_regr, 'Validation')"
   ]
  },
  {
   "cell_type": "markdown",
   "metadata": {},
   "source": [
    "Finally for LinearSVR regressor, once again, our r2 value is very low for training and validation, indicating a poor regressor. However the MSE is quite low, likely a biproduct of the scaled featuers that we employed in data preprocessing. However since r2 score is very low, we can't conclude that this was a good model either."
   ]
  },
  {
   "cell_type": "code",
   "execution_count": 206,
   "metadata": {},
   "outputs": [
    {
     "name": "stdout",
     "output_type": "stream",
     "text": [
      "LinearSVR:\n",
      "Training set MSE with best parameters:  0.016788813110987184\n",
      "Training set r2 with best parameters:  -23.069431844623008\n",
      "Validation set MSE with best parameters:  0.017045813175941723\n",
      "Validation set r2 with best parameters:  -23.958985622779963\n"
     ]
    }
   ],
   "source": [
    "print('LinearSVR:')\n",
    "report_regression_scores(lsvr, X_train_selected_regr, y_train_regr, 'Training')\n",
    "report_regression_scores(lsvr, X_val_selected_regr, y_val_regr, 'Validation')"
   ]
  },
  {
   "cell_type": "markdown",
   "metadata": {},
   "source": [
    "Moving onto classificatin. For these metrics, we're going to just use accuracy, i.e. the percentage of points predicted correctly by the model. We want this value as high as possible. We start off with KNeighborsClassifier with default parameters. This time, we get much better results than compared to regression. Training accuracy is around 75%, but validation is at around 60%, indicating that there is some overfitting. We will address this when we optimize the model."
   ]
  },
  {
   "cell_type": "code",
   "execution_count": 207,
   "metadata": {},
   "outputs": [
    {
     "name": "stdout",
     "output_type": "stream",
     "text": [
      "KNeighborsClassifier:\n",
      "Training set accuracy score with best parameters:  0.7540954415954416\n",
      "Validation set accuracy score with best parameters:  0.5961538461538461\n"
     ]
    }
   ],
   "source": [
    "print('KNeighborsClassifier:')\n",
    "report_classificationn_scores(knnc, X_train_selected_class, y_train_class, 'Training')\n",
    "report_classificationn_scores(knnc, X_val_selected_class, y_val_class, 'Validation')"
   ]
  },
  {
   "cell_type": "markdown",
   "metadata": {},
   "source": [
    "Next is DecisionTreeClassifier. This time we get very high accuracy, enaerly 100% (expected due to our high number of parameters), and again a much lower validation accuracy, indicating that we are overfitting. We will address this when we optimize the model."
   ]
  },
  {
   "cell_type": "code",
   "execution_count": 208,
   "metadata": {},
   "outputs": [
    {
     "name": "stdout",
     "output_type": "stream",
     "text": [
      "DecisionTreeClassifier:\n",
      "Training set accuracy score with best parameters:  0.9804131054131054\n",
      "Validation set accuracy score with best parameters:  0.6607905982905983\n"
     ]
    }
   ],
   "source": [
    "print('DecisionTreeClassifier:')\n",
    "report_classificationn_scores(dtc, X_train_selected_class, y_train_class, 'Training')\n",
    "report_classificationn_scores(dtc, X_val_selected_class, y_val_class, 'Validation')"
   ]
  },
  {
   "cell_type": "markdown",
   "metadata": {},
   "source": [
    "Finally LinearSVC. While it does around as good as KNN on the validation set, the lower training set score indicates this likely won't be as good as KNN or Decision Tree, but at least it doesn't overfit as strongly as the other two initially. Again, we will hyper parameter tune this later for better performance."
   ]
  },
  {
   "cell_type": "code",
   "execution_count": 209,
   "metadata": {},
   "outputs": [
    {
     "name": "stdout",
     "output_type": "stream",
     "text": [
      "LinearSVC:\n",
      "Training set accuracy score with best parameters:  0.604522792022792\n",
      "Validation set accuracy score with best parameters:  0.5822649572649573\n"
     ]
    }
   ],
   "source": [
    "print('LinearSVC:')\n",
    "report_classificationn_scores(lsvc, X_train_selected_class, y_train_class, 'Training')\n",
    "report_classificationn_scores(lsvc, X_val_selected_class, y_val_class, 'Validation')"
   ]
  },
  {
   "cell_type": "markdown",
   "metadata": {},
   "source": [
    "Our initial conclusions can be used to answer our ML questions here. We wanted to find out whether classification or regression performed better, and it seems like classification does a lot better than regression. In addition, we thought that decision tree would do better than knn because of the large number of features, and this turned out to be true as well. we continue below to hyper parameter tune our models and see if these conclusions hold."
   ]
  },
  {
   "cell_type": "markdown",
   "metadata": {},
   "source": [
    "### 3.5. Model Optimization"
   ]
  },
  {
   "cell_type": "markdown",
   "metadata": {},
   "source": [
    "We have found that classification seems to work a lot better than regression, so we will stick to classification. Here, we employ grid search to find the best parameters for our three classification models. First we look at n_neighbors, it uses default neighbors at 5, but this was overfitting originally. So likely what should happen is less neighbors does better (less overfitting). In this case, we see that this is true. GridSearchCV picked 3 as the best parameter for neighbors. We have improved our training set score by 6% and also the validation by a bit."
   ]
  },
  {
   "cell_type": "code",
   "execution_count": 210,
   "metadata": {},
   "outputs": [
    {
     "name": "stdout",
     "output_type": "stream",
     "text": [
      "Best parameters:  {'n_neighbors': 3}\n",
      "Training set accuracy score with best parameters:  0.8173076923076923\n",
      "Validation set accuracy score with best parameters:  0.6047008547008547\n"
     ]
    }
   ],
   "source": [
    "from sklearn.model_selection import GridSearchCV\n",
    "\n",
    "def grid_search_KNN_classifier():\n",
    "    param_grid = {'n_neighbors': [3, 5, 7, 9, 11, 13, 15, 17]}\n",
    "    grid_search = GridSearchCV(KNeighborsClassifier(), param_grid, cv=5)\n",
    "    grid_search.fit(X=X_train_selected_class, y=y_train_class)\n",
    "    \n",
    "    print(\"Best parameters: \", grid_search.best_params_)\n",
    "    report_classificationn_scores(grid_search, X_train_selected_class, y_train_class, 'Training')\n",
    "    report_classificationn_scores(grid_search, X_val_selected_class, y_val_class, 'Validation')\n",
    "    return grid_search\n",
    "knn_class = grid_search_KNN_classifier()"
   ]
  },
  {
   "cell_type": "markdown",
   "metadata": {},
   "source": [
    "For decision tree classifier, we also want to prevent overfitting. This was very evident in the default parameters case where there was no max depth, which meant our model was completely overfit to the data. We find that max_depth of 16 works the best. Although training set accuracy decreased from 98% to 84%, our validation score went up by 5%. "
   ]
  },
  {
   "cell_type": "code",
   "execution_count": 211,
   "metadata": {},
   "outputs": [
    {
     "name": "stdout",
     "output_type": "stream",
     "text": [
      "Best parameters:  {'max_depth': 32}\n",
      "Training set accuracy score with best parameters:  0.9761396011396012\n",
      "Validation set accuracy score with best parameters:  0.6613247863247863\n"
     ]
    }
   ],
   "source": [
    "def grid_search_decision_tree_classifier():\n",
    "    param_grid = {'max_depth': [1, 2, 4, 8, 16, 32, 64, 128]}\n",
    "    grid_search = GridSearchCV(DecisionTreeClassifier(), param_grid, cv=5)\n",
    "    grid_search.fit(X=X_train_selected_class, y=y_train_class)\n",
    "    \n",
    "    print(\"Best parameters: \", grid_search.best_params_)\n",
    "    report_classificationn_scores(grid_search, X_train_selected_class, y_train_class, 'Training')\n",
    "    report_classificationn_scores(grid_search, X_val_selected_class, y_val_class, 'Validation')\n",
    "    return grid_search\n",
    "decision_tree_class = grid_search_decision_tree_classifier()"
   ]
  },
  {
   "cell_type": "markdown",
   "metadata": {},
   "source": [
    "For our last classification approach: LinearSVC, overfitting wasn't the issue, but overall model performance was not great. So here, we try to find the best C value in order to get the best performance. Originally set to 1, we find that this was already the best value, so it seems this is the best LinearSVC can do on our data."
   ]
  },
  {
   "cell_type": "code",
   "execution_count": 212,
   "metadata": {},
   "outputs": [
    {
     "name": "stdout",
     "output_type": "stream",
     "text": [
      "Best parameters:  {'C': 1}\n",
      "Training set accuracy score with best parameters:  0.604522792022792\n",
      "Validation set accuracy score with best parameters:  0.5822649572649573\n"
     ]
    }
   ],
   "source": [
    "def grid_search_linearSVC():\n",
    "    param_grid = {'C': [0.001, 0.01, 0.1, 1, 10, 100]}\n",
    "    grid_search = GridSearchCV(LinearSVC(max_iter=1000000), param_grid, cv=5)\n",
    "    grid_search.fit(X=X_train_selected_class, y=y_train_class)\n",
    "    \n",
    "    print(\"Best parameters: \", grid_search.best_params_)\n",
    "    report_classificationn_scores(grid_search, X_train_selected_class, y_train_class, 'Training')\n",
    "    report_classificationn_scores(grid_search, X_val_selected_class, y_val_class, 'Validation')\n",
    "    return grid_search\n",
    "linear_svc = grid_search_linearSVC()"
   ]
  },
  {
   "cell_type": "markdown",
   "metadata": {},
   "source": [
    "### 3.6. Model Testing\n"
   ]
  },
  {
   "cell_type": "markdown",
   "metadata": {},
   "source": [
    "Now that we have our tuned models (on classification since we found those worked the best), we can now report how well they do on the testing set."
   ]
  },
  {
   "cell_type": "code",
   "execution_count": 213,
   "metadata": {},
   "outputs": [
    {
     "name": "stdout",
     "output_type": "stream",
     "text": [
      "KNN Classification Model Evaluation\n",
      "Training set accuracy score with best parameters:  0.8173076923076923\n",
      "Validation set accuracy score with best parameters:  0.6047008547008547\n",
      "Testing set accuracy score with best parameters:  0.6298076923076923\n"
     ]
    }
   ],
   "source": [
    "print('KNN Classification Model Evaluation')\n",
    "report_classificationn_scores(knn_class, X_train_selected_class, y_train_class, 'Training')\n",
    "report_classificationn_scores(knn_class, X_val_selected_class, y_val_class, 'Validation')\n",
    "report_classificationn_scores(knn_class, X_test_selected_class, y_test_class, 'Testing')"
   ]
  },
  {
   "cell_type": "code",
   "execution_count": 214,
   "metadata": {},
   "outputs": [
    {
     "name": "stdout",
     "output_type": "stream",
     "text": [
      "Decision Tree Classification Model Evaluation\n",
      "Training set accuracy score with best parameters:  0.9761396011396012\n",
      "Validation set accuracy score with best parameters:  0.6613247863247863\n",
      "Testing set accuracy score with best parameters:  0.6591880341880342\n"
     ]
    }
   ],
   "source": [
    "print('Decision Tree Classification Model Evaluation')\n",
    "report_classificationn_scores(decision_tree_class, X_train_selected_class, y_train_class, 'Training')\n",
    "report_classificationn_scores(decision_tree_class, X_val_selected_class, y_val_class, 'Validation')\n",
    "report_classificationn_scores(decision_tree_class, X_test_selected_class, y_test_class, 'Testing')"
   ]
  },
  {
   "cell_type": "code",
   "execution_count": 215,
   "metadata": {},
   "outputs": [
    {
     "name": "stdout",
     "output_type": "stream",
     "text": [
      "Linear SVC Classification Model Evaluation\n",
      "Training set accuracy score with best parameters:  0.604522792022792\n",
      "Validation set accuracy score with best parameters:  0.5822649572649573\n",
      "Testing set accuracy score with best parameters:  0.5966880341880342\n"
     ]
    }
   ],
   "source": [
    "print('Linear SVC Classification Model Evaluation')\n",
    "report_classificationn_scores(linear_svc, X_train_selected_class, y_train_class, 'Training')\n",
    "report_classificationn_scores(linear_svc, X_val_selected_class, y_val_class, 'Validation')\n",
    "report_classificationn_scores(linear_svc, X_test_selected_class, y_test_class, 'Testing')"
   ]
  },
  {
   "cell_type": "markdown",
   "metadata": {},
   "source": [
    "The best model appears to be Decision Tree! We have come to the conclusion that classification algorithms seem to perform a lot better on this dataset than regression. In addition, due to the large number of features (partly due to one hot encoding), decision tree classifier had the best performance all around. Note this is because KNN does better with less dimensionality of data, and decision tree does better because it can split moer easily. Evidently there's some overfitting, which we have attempted to remove, but this seems to be the best we can do with predicting ratings on apps!"
   ]
  },
  {
   "cell_type": "markdown",
   "metadata": {},
   "source": [
    "<a id=\"4\"></a>\n",
    "<hr style=\"height:2px; border:none; color:black; background-color:black;\">"
   ]
  },
  {
   "cell_type": "markdown",
   "metadata": {},
   "source": [
    "## 4. DISCUSSION"
   ]
  },
  {
   "cell_type": "markdown",
   "metadata": {},
   "source": [
    "In broad terms, we looked at two things: classification vs. regression. We wanted to see which would perform better on our dataset (two different datasets with same features, different target). In the end, classification is undoubtedly the winner. For regression, we used KNN regressor, decision tree regressor, and linearSVR, which all performed poorly even with scaled, and one hot encoded features. For classification, we used KNN, decision tree and linearSVC, which performed ok, all having at least 60% accuracy on the training set, with KNN and decision tree performing the best in all. However in the end, do the large amount of features that we have, decision tree classification revealed the best performance on our dataset. This makes sense since our dataset had a lot of features (good for splitting in decision tree). If you had to use a model, this would be the route to take. That being said, with validation and testing scores of 65% at best, this data set does not seem to do very well in predicting ratings (even binary ratings 'good', 'bad') of google play store applications. The best it can do is give a better than 50% chance of predicting correctly. This is something a naked eye could likely do as well with relatively same success.\n",
    "\n",
    "Our hypothesis was on testing the relationship between the number of installs vs. the rating and the number of reviews vs. the rating. However, from the results of our hypothesis test we were not able to conclude anything. While our F-test results led us to believe there was a significant difference, we were not able to further test this due to our data not passing the assumption check for equality of variance and normality. Therefore, we could not conclude that the higher number of installs or lower number of reviews results in a higher rating. The fail in the assumption check for equality of variance and normality was likely due to each rating having a wildly different amount of applications. There were far more applications with a 3 or 4 rating compared to the other ratings. Due to this, the number of reviews and installs varied much more in the 3-4 rating, resulting in a failed assumption check for equality of variance or normality.\n",
    "\n",
    "In conclusion, as developers, we learned that it is very hard to predict how consumers rate things just based on application features such as installs, category ... etc. While an application may have a ton of installs, that doens't necessarily correlate with high ratings. The same goes with certain categories. It is often the case that there is \"one\" very good application per combination of these features, making it tough to decide a trend with just this data. Now one thing that may be interesting to look at in the future, is to gather sentiment analysis data (or do it ourselves) on reviews of each application, and then predict whether or not this application has good ratings or not. Taking this further, we can use this sentiment data and decide whether or not this application should be invested in, or is in a category that might benefit from more apps. "
   ]
  },
  {
   "cell_type": "markdown",
   "metadata": {},
   "source": [
    "<a id=\"5\"></a>\n",
    "<hr style=\"height:2px; border:none; color:black; background-color:black;\">"
   ]
  },
  {
   "cell_type": "markdown",
   "metadata": {},
   "source": [
    "### CONTRIBUTIONS"
   ]
  },
  {
   "cell_type": "markdown",
   "metadata": {},
   "source": [
    "**Stanley Wu**\n",
    "\n",
    "I performed data wrangling and preprocessing (3.1), as well as created the models (3.3), evaluated the models (3.4), optimized the models (3.5), and tested the final models (3.6). I also wrote the first and last paragraph of the discussion (4)."
   ]
  },
  {
   "cell_type": "markdown",
   "metadata": {},
   "source": [
    "**Patrick Yoon**\n",
    "\n",
    "I wrote the introduction (1), data analysis (2.1), and data acquisition (2.2). I also wrote the data exploration (3.2) with explanations and created all the plots and graphs. Finally, in model construction (3.3), I conducted both hypothesis tests with a step-by-step instructions, including the plots and the conclusion. I wrote the second paragraph in the discussion (4)."
   ]
  }
 ],
 "metadata": {
  "kernelspec": {
   "display_name": "Python 3",
   "language": "python",
   "name": "python3"
  },
  "language_info": {
   "codemirror_mode": {
    "name": "ipython",
    "version": 3
   },
   "file_extension": ".py",
   "mimetype": "text/x-python",
   "name": "python",
   "nbconvert_exporter": "python",
   "pygments_lexer": "ipython3",
   "version": "3.7.4"
  }
 },
 "nbformat": 4,
 "nbformat_minor": 2
}
